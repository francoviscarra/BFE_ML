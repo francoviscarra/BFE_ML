{
 "cells": [
  {
   "cell_type": "code",
   "execution_count": 1,
   "metadata": {},
   "outputs": [],
   "source": [
    "from rdkit import Chem\n",
    "import rdkit.Chem.Lipinski as Lipinski\n",
    "import rdkit.Chem.Crippen as Crippen\n",
    "import pandas as pd\n",
    "import numpy as np\n",
    "import MDAnalysis as mda"
   ]
  },
  {
   "cell_type": "code",
   "execution_count": 5,
   "metadata": {},
   "outputs": [],
   "source": [
    "mol = Chem.rdmolfiles.MolFromMol2File(\"../../dataset/refined-set/1a1e/1a1e_ligand.mol2\")"
   ]
  },
  {
   "cell_type": "code",
   "execution_count": 6,
   "metadata": {},
   "outputs": [],
   "source": [
    "#Hydrogen bond donors and acceptors in ligand https://www.rdkit.org/docs/source/rdkit.Chem.Lipinski.html\n",
    "L_A = Lipinski.NumHAcceptors(mol)\n",
    "L_D = Lipinski.NumHDonors(mol)"
   ]
  },
  {
   "cell_type": "code",
   "execution_count": null,
   "metadata": {},
   "outputs": [],
   "source": [
    "print(L_A)\n",
    "print(L_D)"
   ]
  },
  {
   "cell_type": "code",
   "execution_count": 8,
   "metadata": {},
   "outputs": [],
   "source": [
    "#Octanol-water logP https://www.rdkit.org/docs/source/rdkit.Chem.Crippen.html\n",
    "LogP = Crippen.MolLogP(mol) "
   ]
  },
  {
   "cell_type": "code",
   "execution_count": null,
   "metadata": {},
   "outputs": [],
   "source": [
    "print(LogP)"
   ]
  },
  {
   "cell_type": "code",
   "execution_count": 10,
   "metadata": {},
   "outputs": [],
   "source": [
    "#Molar Refractivity https://www.rdkit.org/docs/source/rdkit.Chem.Crippen.html\n",
    "MR = Crippen.MolMR(mol)"
   ]
  },
  {
   "cell_type": "code",
   "execution_count": null,
   "metadata": {},
   "outputs": [],
   "source": [
    "print(MR)"
   ]
  },
  {
   "cell_type": "code",
   "execution_count": 12,
   "metadata": {},
   "outputs": [],
   "source": [
    "#Wiener index http://www.scfbio-iitd.res.in/software/drugdesign/WINDEX/wienerindex.htm\n",
    "def wiener_index(m):\n",
    "    res = 0\n",
    "    amat = Chem.GetDistanceMatrix(m)\n",
    "    for i in range(m.GetNumAtoms()):\n",
    "        for j in range(i+1,m.GetNumAtoms()):\n",
    "            res += amat[i][j]\n",
    "    return res"
   ]
  },
  {
   "cell_type": "code",
   "execution_count": null,
   "metadata": {},
   "outputs": [],
   "source": [
    "#Wiener index for the ligand\n",
    "wmol = wiener_index(mol)\n",
    "print(wmol)\n"
   ]
  },
  {
   "cell_type": "code",
   "execution_count": null,
   "metadata": {},
   "outputs": [],
   "source": [
    "#Molecular weight of the ligand https://www.rdkit.org/docs/source/rdkit.Chem.rdMolDescriptors.html\n",
    "MW = Chem.rdMolDescriptors.CalcExactMolWt(mol)\n",
    "MW"
   ]
  },
  {
   "cell_type": "code",
   "execution_count": 116,
   "metadata": {},
   "outputs": [],
   "source": [
    "#Calculate for all the ligands\n",
    "indices = pd.read_csv(\"../../dataset/index_clean\", delimiter=',',header=None, comment='#')"
   ]
  },
  {
   "cell_type": "code",
   "execution_count": null,
   "metadata": {},
   "outputs": [],
   "source": [
    "indices[0].values"
   ]
  },
  {
   "cell_type": "code",
   "execution_count": 18,
   "metadata": {},
   "outputs": [],
   "source": [
    "def wiener_index(m):\n",
    "    res = 0\n",
    "    amat = Chem.GetDistanceMatrix(m)\n",
    "    for i in range(m.GetNumAtoms()):\n",
    "        for j in range(i+1,m.GetNumAtoms()):\n",
    "            res += amat[i][j]\n",
    "    return res"
   ]
  },
  {
   "cell_type": "code",
   "execution_count": null,
   "metadata": {},
   "outputs": [],
   "source": [
    "arr = np.zeros((len(indices[0]), 6))\n",
    "for j,i in enumerate(indices[0]):\n",
    "    #load sdf file\n",
    "    #ignore errors\n",
    "    try:\n",
    "        mol = Chem.rdmolfiles.SDMolSupplier(f\"../../dataset/refined-set/{i}/{i}_ligand.sdf\")[0]\n",
    "        MWe = Chem.rdMolDescriptors.CalcExactMolWt(mol)\n",
    "        L_A = Lipinski.NumHAcceptors(mol)\n",
    "        L_D = Lipinski.NumHDonors(mol)\n",
    "        LogP = Crippen.MolLogP(mol) \n",
    "        MR = Crippen.MolMR(mol)\n",
    "        wmol = wiener_index(mol)\n",
    "\n",
    "    except:\n",
    "        mol = Chem.rdmolfiles.MolFromMol2File(f\"../../dataset/refined-set/{i}/{i}_ligand.mol2\")  \n",
    "        print(\"mol2\")      \n",
    "        MWe = Chem.rdMolDescriptors.CalcExactMolWt(mol)\n",
    "        L_A = Lipinski.NumHAcceptors(mol)\n",
    "        L_D = Lipinski.NumHDonors(mol)\n",
    "        LogP = Crippen.MolLogP(mol) \n",
    "        MR = Crippen.MolMR(mol)\n",
    "        wmol = wiener_index(mol)\n",
    "    arr[j] = [MWe, L_A, L_D, LogP, MR, wmol]\n",
    "  \n",
    "    "
   ]
  },
  {
   "cell_type": "code",
   "execution_count": null,
   "metadata": {},
   "outputs": [],
   "source": [
    "arr"
   ]
  },
  {
   "cell_type": "code",
   "execution_count": null,
   "metadata": {},
   "outputs": [],
   "source": [
    "indices.shape"
   ]
  },
  {
   "cell_type": "code",
   "execution_count": 22,
   "metadata": {},
   "outputs": [],
   "source": [
    "df = pd.DataFrame(arr, columns=['Molecular weight', 'Acceptors', 'Donors', 'LogP', 'Molecular Refractivity', 'Wiener index'])"
   ]
  },
  {
   "cell_type": "code",
   "execution_count": 23,
   "metadata": {},
   "outputs": [],
   "source": [
    "df['Ids'] = indices[0]"
   ]
  },
  {
   "cell_type": "code",
   "execution_count": null,
   "metadata": {},
   "outputs": [],
   "source": [
    "df['Molecular weight'].value_counts()"
   ]
  },
  {
   "cell_type": "code",
   "execution_count": null,
   "metadata": {},
   "outputs": [],
   "source": [
    "df"
   ]
  },
  {
   "cell_type": "code",
   "execution_count": 2,
   "metadata": {},
   "outputs": [],
   "source": [
    "import MDAnalysis as mda"
   ]
  },
  {
   "cell_type": "code",
   "execution_count": 28,
   "metadata": {},
   "outputs": [],
   "source": [
    "protein = mda.Universe(f\"../../dataset/refined-set/1a1e/1a1e_protein.pdb\")"
   ]
  },
  {
   "cell_type": "code",
   "execution_count": 29,
   "metadata": {},
   "outputs": [],
   "source": [
    "ligand = mda.Universe(f\"../../dataset/refined-set/1a1e/1a1e_ligand.mol2\")"
   ]
  },
  {
   "cell_type": "code",
   "execution_count": null,
   "metadata": {},
   "outputs": [],
   "source": [
    "ligand.atoms[0]"
   ]
  },
  {
   "cell_type": "code",
   "execution_count": 31,
   "metadata": {},
   "outputs": [],
   "source": [
    "complex = mda.Merge(protein.atoms, ligand.atoms)"
   ]
  },
  {
   "cell_type": "code",
   "execution_count": 32,
   "metadata": {},
   "outputs": [],
   "source": [
    "ligname = ligand.residues[0].resname"
   ]
  },
  {
   "cell_type": "code",
   "execution_count": 33,
   "metadata": {},
   "outputs": [],
   "source": [
    "pocket = complex.select_atoms(f\"protein and around 6 resname {ligname}\")"
   ]
  },
  {
   "cell_type": "code",
   "execution_count": 34,
   "metadata": {},
   "outputs": [],
   "source": [
    "#Hydrogen bond donors an acceptors in protein https://www.imgt.org/IMGTeducation/Aide-memoire/_UK/aminoacids/charge/#:~:text=3%20amino%20acids%20(arginine%2C%20lysine,atoms%20in%20their%20side%20chain"
   ]
  },
  {
   "cell_type": "code",
   "execution_count": 35,
   "metadata": {},
   "outputs": [],
   "source": [
    "#Select the hydrogen bond donors of arginine:\n",
    "\n",
    "ARG_hbond = pocket.select_atoms(\"name NH1 NH2 NE\")"
   ]
  },
  {
   "cell_type": "code",
   "execution_count": 36,
   "metadata": {},
   "outputs": [],
   "source": [
    "#Select the hydrongen bond donors of the aminoacid groups as in the paper:\n",
    "\n",
    "PD_amide = len(pocket.select_atoms(\"name N\"))\n"
   ]
  },
  {
   "cell_type": "code",
   "execution_count": 37,
   "metadata": {},
   "outputs": [],
   "source": [
    "#donors\n",
    "PD_positive = len(pocket.select_atoms(\"name NZ NE NH1 NH2 ND1 NE2\"))        #Lysine, arginine and histidine\n",
    "PD_neutral = len(pocket.select_atoms(\"name ND2 NE2\"))     #asparagine,glutamine\n",
    "PD_heteroatom = len(pocket.select_atoms(\"name NE1\"))    #Tryptophan\n",
    "PD_OH = len(pocket.select_atoms(\"name OG OG1 OH\"))    #Serine, Threonine, Tyrosine"
   ]
  },
  {
   "cell_type": "code",
   "execution_count": 38,
   "metadata": {},
   "outputs": [],
   "source": [
    "#acceptors\n",
    "PA_amide = len(pocket.select_atoms(\"name O\"))\n",
    "PA_negative = len(pocket.select_atoms(\"name OD1 OD2 OE1 OE2\"))   #Aspartate, Glutamate\n",
    "PA_neutral = len(pocket.select_atoms(\"name OE1 OG2 OH OD1\"))       #Asparagine, Glutamine, tyrosine, serine\n",
    "PA_aromatic = len(pocket.select_atoms(\"name OH ND1 NE2\"))   #Tyrosine, Histidine"
   ]
  },
  {
   "cell_type": "code",
   "execution_count": null,
   "metadata": {},
   "outputs": [],
   "source": [
    "#Construct a table with the logP and MR of every amino acid\n",
    "amino_acid_names = ['ALA', 'ARG', 'ASN', 'ASP', 'CYS', 'GLN', 'GLU', 'GLY', 'HIS', 'ILE', 'LEU', 'LYS', 'MET', 'PHE', 'PRO', 'SER', 'THR', 'TRP', 'TYR', 'VAL'] # resname 3letter\n",
    "\n",
    "#List of amino acid SMILES\n",
    "SMILES_ASP = \"C([C@@H](C(=O)O)N)C(=O)O\" #aspartate #https://pubchem.ncbi.nlm.nih.gov/compound/Aspartic-Acid\n",
    "SMILES_ALA = \"C[C@@H](C(=O)O)N\" #Alanine\n",
    "SMILES_ARG = \"C(C[C@@H](C(=O)O)N)CN=C(N)N\" #Arginine\n",
    "SMILES_ASN = \"C([C@@H](C(=O)O)N)C(=O)N\" #Asparagine\n",
    "SMILES_CYS = \"C([C@@H](C(=O)O)N)S\" #Cysteine\n",
    "SMILES_GLN = \"C(CC(=O)N)[C@@H](C(=O)O)N\" #Glutamine\n",
    "SMILES_GLU = \"C(CC(=O)O)[C@@H](C(=O)O)N\" #Glutamate\n",
    "SMILES_GLY = \"C(C(=O)O)N\" #Glycine\n",
    "SMILES_HIS = \"C1=C(NC=N1)C[C@@H](C(=O)O)N\" #Histidine\n",
    "SMILES_ILE = \"CC[C@H](C)[C@@H](C(=O)O)N\" #Isoleucine\n",
    "SMILES_LEU = \"CC(C)C[C@@H](C(=O)O)N\" #Leucine\n",
    "SMILES_LYS = \"C(CCN)C[C@@H](C(=O)O)N\" #Lysine\n",
    "SMILES_MET = \"CSCC[C@@H](C(=O)O)N\" #Methionine\n",
    "SMILES_PHE = \"C1=CC=C(C=C1)C[C@@H](C(=O)O)N\" #Phenylalanine\n",
    "SMILES_PRO = \"C1C[C@H](NC1)C(=O)O\" #Proline\n",
    "SMILES_SER = \"C([C@@H](C(=O)O)N)O\" #Serine\n",
    "SMILES_THR = \"C[C@H]([C@@H](C(=O)O)N)O\" #Threonine\n",
    "SMILES_TRP = \"C1=CC=C2C(=C1)C(=CN2)C[C@@H](C(=O)O)N\" #Tryptophan\n",
    "SMILES_TYR = \"C1=CC(=CC=C1C[C@@H](C(=O)O)N)O\" #Tyrosine\n",
    "SMILES_VAL = \"CC(C)[C@@H](C(=O)O)N\" #Valine\n",
    "\n",
    "\n",
    "#Mol object from SMILES\n",
    "aspartic_mol = Chem.MolFromSmiles(SMILES_ASP) \n",
    "alanine_mol = Chem.MolFromSmiles(SMILES_ALA)\n",
    "arginine_mol = Chem.MolFromSmiles(SMILES_ARG)\n",
    "asparagine_mol = Chem.MolFromSmiles(SMILES_ASN)\n",
    "cysteine_mol = Chem.MolFromSmiles(SMILES_CYS)\n",
    "glutamine_mol = Chem.MolFromSmiles(SMILES_GLN)\n",
    "glutamate_mol = Chem.MolFromSmiles(SMILES_GLU)\n",
    "glycine_mol = Chem.MolFromSmiles(SMILES_GLY)\n",
    "histidine_mol = Chem.MolFromSmiles(SMILES_HIS)\n",
    "isoleucine_mol = Chem.MolFromSmiles(SMILES_ILE)\n",
    "leucine_mol = Chem.MolFromSmiles(SMILES_LEU)\n",
    "lysine_mol = Chem.MolFromSmiles(SMILES_LYS)\n",
    "methionine_mol = Chem.MolFromSmiles(SMILES_MET)\n",
    "phenylalanine_mol = Chem.MolFromSmiles(SMILES_PHE)\n",
    "proline_mol = Chem.MolFromSmiles(SMILES_PRO)\n",
    "serine_mol = Chem.MolFromSmiles(SMILES_SER)\n",
    "threonine_mol = Chem.MolFromSmiles(SMILES_THR)\n",
    "tryptophan_mol = Chem.MolFromSmiles(SMILES_TRP)\n",
    "tyrosine_mol = Chem.MolFromSmiles(SMILES_TYR)\n",
    "valine_mol = Chem.MolFromSmiles(SMILES_VAL)\n"
   ]
  },
  {
   "cell_type": "code",
   "execution_count": null,
   "metadata": {},
   "outputs": [],
   "source": [
    "aspartic_mol # You can use this object to calculate the logP and MR of the amino acid"
   ]
  },
  {
   "cell_type": "code",
   "execution_count": 70,
   "metadata": {},
   "outputs": [],
   "source": [
    "\n",
    "#Look up the smiles for every amino acid and calculate the logP and MR  and make a dictionary\n",
    "\n",
    "#LogP\n",
    "log_P_dict = {}\n",
    "MR_dict = {}\n",
    "logP_asp = Crippen.MolLogP(aspartic_mol)\n",
    "logP_ala = Crippen.MolLogP(alanine_mol)\n",
    "logP_arg = Crippen.MolLogP(arginine_mol)\n",
    "logP_asn = Crippen.MolLogP(asparagine_mol)\n",
    "logP_cys = Crippen.MolLogP(cysteine_mol)\n",
    "logP_gln = Crippen.MolLogP(glutamine_mol)\n",
    "logP_glu = Crippen.MolLogP(glutamate_mol)\n",
    "logP_gly = Crippen.MolLogP(glycine_mol)\n",
    "logP_his = Crippen.MolLogP(histidine_mol)\n",
    "logP_ile = Crippen.MolLogP(isoleucine_mol)\n",
    "logP_leu = Crippen.MolLogP(leucine_mol)\n",
    "logP_lys = Crippen.MolLogP(lysine_mol)\n",
    "logP_met = Crippen.MolLogP(methionine_mol)\n",
    "logP_phe = Crippen.MolLogP(phenylalanine_mol)\n",
    "logP_pro = Crippen.MolLogP(proline_mol)\n",
    "logP_ser = Crippen.MolLogP(serine_mol)\n",
    "logP_thr = Crippen.MolLogP(threonine_mol)\n",
    "logP_trp = Crippen.MolLogP(tryptophan_mol)\n",
    "logP_tyr = Crippen.MolLogP(tyrosine_mol)\n",
    "logP_val = Crippen.MolLogP(valine_mol)\n",
    "\n",
    "#MR\n",
    "MR_asp = Crippen.MolMR(aspartic_mol)\n",
    "MR_ala = Crippen.MolMR(alanine_mol)\n",
    "MR_arg = Crippen.MolMR(arginine_mol)\n",
    "MR_asn = Crippen.MolMR(asparagine_mol)\n",
    "MR_cys = Crippen.MolMR(cysteine_mol)\n",
    "MR_gln = Crippen.MolMR(glutamine_mol)\n",
    "MR_glu = Crippen.MolMR(glutamate_mol)\n",
    "MR_gly = Crippen.MolMR(glycine_mol)\n",
    "MR_his = Crippen.MolMR(histidine_mol)\n",
    "MR_ile = Crippen.MolMR(isoleucine_mol)\n",
    "MR_leu = Crippen.MolMR(leucine_mol)\n",
    "MR_lys = Crippen.MolMR(lysine_mol)\n",
    "MR_met = Crippen.MolMR(methionine_mol)\n",
    "MR_phe = Crippen.MolMR(phenylalanine_mol)\n",
    "MR_pro = Crippen.MolMR(proline_mol)\n",
    "MR_ser = Crippen.MolMR(serine_mol)\n",
    "MR_thr = Crippen.MolMR(threonine_mol)\n",
    "MR_trp = Crippen.MolMR(tryptophan_mol)\n",
    "MR_tyr = Crippen.MolMR(tyrosine_mol)\n",
    "MR_val = Crippen.MolMR(valine_mol)\n",
    "\n",
    "\n",
    "log_P_dict['ASP'] = logP_asp\n",
    "log_P_dict['ALA'] = logP_ala\n",
    "log_P_dict['ARG'] = logP_arg\n",
    "log_P_dict['ASN'] = logP_asn\n",
    "log_P_dict['CYS'] = logP_cys\n",
    "log_P_dict['GLN'] = logP_gln\n",
    "log_P_dict['GLU'] = logP_glu\n",
    "log_P_dict['GLY'] = logP_gly\n",
    "log_P_dict['HIS'] = logP_his\n",
    "log_P_dict['ILE'] = logP_ile\n",
    "log_P_dict['LEU'] = logP_leu\n",
    "log_P_dict['LYS'] = logP_lys\n",
    "log_P_dict['MET'] = logP_met\n",
    "log_P_dict['PHE'] = logP_phe\n",
    "log_P_dict['PRO'] = logP_pro\n",
    "log_P_dict['SER'] = logP_ser\n",
    "log_P_dict['THR'] = logP_thr\n",
    "log_P_dict['TRP'] = logP_trp\n",
    "log_P_dict['TYR'] = logP_tyr\n",
    "log_P_dict['VAL'] = logP_val\n",
    "\n",
    "MR_dict['ASP'] = MR_asp\n",
    "MR_dict['ALA'] = MR_ala\n",
    "MR_dict['ARG'] = MR_arg\n",
    "MR_dict['ASN'] = MR_asn\n",
    "MR_dict['CYS'] = MR_cys\n",
    "MR_dict['GLN'] = MR_gln\n",
    "MR_dict['GLU'] = MR_glu\n",
    "MR_dict['GLY'] = MR_gly\n",
    "MR_dict['HIS'] = MR_his\n",
    "MR_dict['ILE'] = MR_ile\n",
    "MR_dict['LEU'] = MR_leu\n",
    "MR_dict['LYS'] = MR_lys\n",
    "MR_dict['MET'] = MR_met\n",
    "MR_dict['PHE'] = MR_phe\n",
    "MR_dict['PRO'] = MR_pro\n",
    "MR_dict['SER'] = MR_ser\n",
    "MR_dict['THR'] = MR_thr\n",
    "MR_dict['TRP'] = MR_trp\n",
    "MR_dict['TYR'] = MR_tyr\n",
    "MR_dict['VAL'] = MR_val\n"
   ]
  },
  {
   "cell_type": "code",
   "execution_count": null,
   "metadata": {},
   "outputs": [],
   "source": [
    "#Make a dictionary of the amino acids with their smiles\n",
    "smiles_dict = {\n",
    "    \"ASP\": \"C([C@@H](C(=O)O)N)C(=O)O\",\n",
    "    \"GLU\": \"C(CC(=O)O)[C@@H](C(=O)O)N\",\n",
    "    \"LYS\": \"C(CCN)C[C@@H](C(=O)O)N\",\n",
    "    \"ARG\": \"C(C[C@@H](C(=O)O)N)CN=C(N)N\",\n",
    "    \"HIS\": \"C1=C(NC=N1)C[C@@H](C(=O)O)N\",\n",
    "    \"SER\": \"C([C@@H](C(=O)O)N)O\",\n",
    "    \"THR\": \"C[C@H]([C@@H](C(=O)O)N)O\",\n",
    "    \"ASN\": \"C([C@@H](C(=O)O)N)C(=O)N\",\n",
    "    \"GLN\": \"C(CC(=O)N)[C@@H](C(=O)O)N\",\n",
    "    \"CYS\": \"C([C@@H](C(=O)O)N)S\",\n",
    "    \"MET\": \"CSCC[C@@H](C(=O)O)N\",\n",
    "    \"TYR\": \"C1=CC(=CC=C1C[C@@H](C(=O)O)N)O\",\n",
    "    \"TRP\": \"C1=CC=C2C(=C1)C(=CN2)C[C@@H](C(=O)O)N\",\n",
    "    \"PHE\": \"C1=CC=C(C=C1)C[C@@H](C(=O)O)N\",\n",
    "    \"GLY\": \"C(C(=O)O)N\",\n",
    "    \"PRO\": \"C1C[C@H](NC1)C(=O)O\",\n",
    "    \"ALA\": \"C[C@@H](C(=O)O)N\",\n",
    "    \"VAL\": \"CC(C)[C@@H](C(=O)O)N\",\n",
    "    \"LEU\": \"CC(C)C[C@@H](C(=O)O)N\",\n",
    "    \"ILE\": \"CC[C@H](C)[C@@H](C(=O)O)N\"\n",
    "}"
   ]
  },
  {
   "cell_type": "code",
   "execution_count": null,
   "metadata": {},
   "outputs": [],
   "source": [
    "log_P_dict"
   ]
  },
  {
   "cell_type": "code",
   "execution_count": null,
   "metadata": {},
   "outputs": [],
   "source": [
    "MR_dict"
   ]
  },
  {
   "cell_type": "code",
   "execution_count": 73,
   "metadata": {},
   "outputs": [],
   "source": [
    "amino_acid_names_list = ['ALA', 'ARG', 'ASN', 'ASP', 'CYS', 'GLN', 'GLU', 'GLY', 'HIS', 'ILE', 'LEU', 'LYS', 'MET', 'PHE', 'PRO', 'SER', 'THR', 'TRP', 'TYR', 'VAL']"
   ]
  },
  {
   "cell_type": "code",
   "execution_count": null,
   "metadata": {},
   "outputs": [],
   "source": [
    "arr = np.zeros((len(indices[0]), 11))\n",
    "for j,i in enumerate(indices[0]):\n",
    "    protein = mda.Universe(f\"../../dataset/refined-set/{i}/{i}_protein.pdb\")\n",
    "    ligand = mda.Universe(f\"../../dataset/refined-set/{i}/{i}_ligand.mol2\")\n",
    "\n",
    "    ligname = 'LIG'\n",
    "    for lgnm in ligand.residues:\n",
    "        lgnm.resname = 'LIG'\n",
    "    complex = mda.Merge(protein.atoms, ligand.atoms)\n",
    "    pocket = complex.select_atoms(f\"protein and around 6 resname {ligname}\")\n",
    "    PD_amide = len(pocket.select_atoms(\"name N\"))\n",
    "    PD_positive = len(pocket.select_atoms(\"name NZ NE NH1 NH2 ND1 NE2\"))        #Lysine, arginine and histidine\n",
    "    PD_neutral = len(pocket.select_atoms(\"name ND2 NE2\"))     #asparagine,glutamine\n",
    "    PD_heteroatom = len(pocket.select_atoms(\"name NE1\"))    #Tryptophan\n",
    "    PD_OH = len(pocket.select_atoms(\"name OG OG1 OH\"))    #Serine, Threonine, Tyrosine\n",
    "    PA_amide = len(pocket.select_atoms(\"name O\"))\n",
    "    PA_negative = len(pocket.select_atoms(\"name OD1 OD2 OE1 OE2\"))   #Aspartate, Glutamate\n",
    "    PA_neutral = len(pocket.select_atoms(\"name OE1 OG2 OH OD1\"))       #Asparagine, Glutamine, tyrosine, serine\n",
    "    PA_aromatic = len(pocket.select_atoms(\"name OH ND1 NE2\"))   #Tyrosine, Histidine\n",
    "    amino_acids = [residue.resname for residue in pocket.residues]\n",
    "    P_logp = np.mean([log_P_dict[amino_acid] for amino_acid in amino_acids])\n",
    "    P_MR = np.mean([MR_dict[amino_acid] for amino_acid in amino_acids])\n",
    "    arr[j] = [PD_amide, PD_positive, PD_neutral, PD_heteroatom, PD_OH, PA_amide, PA_negative, PA_neutral, PA_aromatic, P_logp, P_MR]\n",
    "    print(arr[j])\n",
    "    \n"
   ]
  },
  {
   "cell_type": "code",
   "execution_count": 165,
   "metadata": {},
   "outputs": [],
   "source": [
    "df['PD_amide'] = arr[:,0]\n",
    "df['PD_positive'] = arr[:,1]\n",
    "df['PD_neutral'] = arr[:,2]\n",
    "df['PD_heteroatom'] = arr[:,3]\n",
    "df['PD_OH'] = arr[:,4]\n",
    "df['PA_amide'] = arr[:,5]\n",
    "df['PA_negative'] = arr[:,6]\n",
    "df['PA_neutral'] = arr[:,7]\n",
    "df['PA_aromatic'] = arr[:,8]\n",
    "df['P_logp'] = arr[:,9]\n",
    "df['P_MR'] = arr[:,10]\n"
   ]
  },
  {
   "cell_type": "code",
   "execution_count": null,
   "metadata": {},
   "outputs": [],
   "source": [
    "df"
   ]
  },
  {
   "cell_type": "code",
   "execution_count": 139,
   "metadata": {},
   "outputs": [],
   "source": [
    "#Separate the number from str in indices[2] and assign to number and unit columns respectively\n",
    "indices['number'] = [var[:-2] for var in indices[2]]\n",
    "indices['unit'] = [var[-2:] for var in indices[2]]"
   ]
  },
  {
   "cell_type": "code",
   "execution_count": null,
   "metadata": {},
   "outputs": [],
   "source": [
    "indices"
   ]
  },
  {
   "cell_type": "code",
   "execution_count": null,
   "metadata": {},
   "outputs": [],
   "source": [
    "indices['unit'].value_counts()"
   ]
  },
  {
   "cell_type": "code",
   "execution_count": 145,
   "metadata": {},
   "outputs": [],
   "source": [
    "#Create empty molar column\n",
    "indices['Molar'] = np.nan\n"
   ]
  },
  {
   "cell_type": "code",
   "execution_count": null,
   "metadata": {},
   "outputs": [],
   "source": [
    "#Convert the number to molar according to the unit\n",
    "indices['number'] = indices['number'].astype(float)\n",
    "indices['unit'] = indices['unit'].astype(str)\n",
    "for i in range(len(indices)):\n",
    "    if indices['unit'][i] == 'mM':\n",
    "        indices['Molar'][i] = indices['number'][i]/1000\n",
    "    elif indices['unit'][i] == 'nM':\n",
    "        indices['Molar'][i] = indices['number'][i]/1000000000\n",
    "    elif indices['unit'][i] == 'uM':\n",
    "        indices['Molar'][i] = indices['number'][i]/1000000\n",
    "    elif indices['unit'][i] == 'pM':\n",
    "        indices['Molar'][i] = indices['number'][i]/1000000000000\n",
    "    elif indices['unit'][i] == 'fM':\n",
    "        indices['Molar'][i] = indices['number'][i]/1000000000000000\n",
    "    else:\n",
    "        indices['number'][i] = indices['number'][i]"
   ]
  },
  {
   "cell_type": "code",
   "execution_count": 148,
   "metadata": {},
   "outputs": [],
   "source": [
    "#Convert the Molar to free energy in kcal/mol\n",
    "indices['Molar'] = indices['Molar'].astype(float)\n",
    "indices['Free energy'] = 0.592 * np.log(indices['Molar']) #RT = 0.592 kcal/mol at 298K"
   ]
  },
  {
   "cell_type": "code",
   "execution_count": null,
   "metadata": {},
   "outputs": [],
   "source": [
    "indices"
   ]
  },
  {
   "cell_type": "code",
   "execution_count": 150,
   "metadata": {},
   "outputs": [],
   "source": [
    "df['Free energy'] = indices['Free energy']"
   ]
  },
  {
   "cell_type": "code",
   "execution_count": null,
   "metadata": {},
   "outputs": [],
   "source": [
    "df"
   ]
  },
  {
   "cell_type": "markdown",
   "metadata": {},
   "source": []
  },
  {
   "cell_type": "code",
   "execution_count": 168,
   "metadata": {},
   "outputs": [],
   "source": [
    "df.to_csv(\"features.csv\", index=False)"
   ]
  },
  {
   "cell_type": "code",
   "execution_count": 3,
   "metadata": {},
   "outputs": [],
   "source": [
    "#Put your imports here so you don't have to re run the whole script\n",
    "import pandas as pd\n",
    "import numpy as np\n",
    "from sklearn.model_selection import train_test_split\n",
    "from sklearn.preprocessing import StandardScaler\n",
    "from sklearn.linear_model import LinearRegression \n",
    "from sklearn import metrics\n",
    "from matplotlib import pyplot as plt\n",
    "from sklearn.svm import SVR\n",
    "import seaborn as sns\n",
    "import sklearn\n",
    "import warnings\n",
    "from sklearn.preprocessing import LabelEncoder\n",
    "from sklearn.impute import KNNImputer\n",
    "from sklearn.metrics import f1_score\n",
    "from sklearn.ensemble import RandomForestRegressor\n",
    "from sklearn.model_selection import cross_val_score\n",
    "from sklearn.datasets import make_regression\n",
    "from sklearn.model_selection import RepeatedStratifiedKFold\n",
    "from xgboost import XGBRegressor\n",
    "import matplotlib.pyplot as plt\n",
    "\n",
    "# sudo pip install xgboost\n",
    "import xgboost\n",
    "\n",
    "warnings.filterwarnings('ignore')"
   ]
  },
  {
   "cell_type": "code",
   "execution_count": null,
   "metadata": {},
   "outputs": [],
   "source": [
    "df"
   ]
  },
  {
   "cell_type": "code",
   "execution_count": 46,
   "metadata": {},
   "outputs": [],
   "source": [
    "#Try implementing SVM (https://medium.com/@niousha.rf/support-vector-regressor-theory-and-coding-exercise-in-python-ca6a7dfda927), LR (https://www.geeksforgeeks.org/python-linear-regression-using-sklearn/), RF (https://www.geeksforgeeks.org/random-forest-regression-in-python/), and XGBoost (https://machinelearningmastery.com/xgboost-for-regression/)\n",
    "#You can load the calculated features with df = pd.read_csv(\"features.csv\") and then use the features to train the models\n",
    "#The target will be the Free energy column, the rest will be the features\n",
    "#reduces overfitting\n",
    "\n",
    "df = pd.read_csv(\"features.csv\")\n",
    "\n",
    "X = df.drop(['Free energy', 'Ids'], axis=1)\n",
    "Y = df['Free energy']\n",
    "X_train, X_test, y_train, y_test = train_test_split(X, Y, test_size=0.3, random_state=0)\n",
    "\n",
    "svm_preds = {}\n",
    "\n",
    "#Scales X-data, fit() method expects a 2D array-like input\n",
    "scaler = StandardScaler().fit(X_train)\n",
    "X_train_scaled = scaler.transform(X_train)\n",
    "X_test_scaled = scaler.transform(X_test)\n",
    "\n",
    "svr_lin = SVR(kernel = 'linear')\n",
    "svr_rbf = SVR(kernel = 'rbf')\n",
    "svr_poly = SVR(kernel = 'poly')\n",
    "\n",
    "svr_lin.fit(X_train_scaled, y_train)\n",
    "svr_rbf.fit(X_train_scaled, y_train)\n",
    "svr_poly.fit(X_train_scaled, y_train)\n",
    "\n",
    "svm_preds['linear_svr_pred'] = svr_lin.predict(X_test_scaled)\n",
    "svm_preds['rbf_svr_pred'] = svr_rbf.predict(X_test_scaled)\n",
    "svm_preds['poly_svr_pred'] = svr_poly.predict(X_test_scaled)\n",
    "\n",
    "\n"
   ]
  },
  {
   "cell_type": "code",
   "execution_count": null,
   "metadata": {},
   "outputs": [],
   "source": [
    "from sklearn.metrics import mean_squared_error\n",
    "\n",
    "from sklearn.metrics import r2_score\n",
    "\n",
    "print(\"Linear SVR\")\n",
    "print('Mean Squared Error:', mean_squared_error(y_test, svm_preds['linear_svr_pred']))\n",
    "print('R2 Score:', r2_score(y_test, svm_preds['linear_svr_pred']))\n",
    "print(\"\\n\")\n",
    "print(\"RBF SVR\")\n",
    "print('Mean Squared Error:', mean_squared_error(y_test, svm_preds['rbf_svr_pred']))\n",
    "print('R2 Score:', r2_score(y_test, svm_preds['rbf_svr_pred']))\n",
    "print(\"\\n\")\n",
    "print(\"Poly SVR\")\n",
    "print('Mean Squared Error:', mean_squared_error(y_test, svm_preds['poly_svr_pred']))\n",
    "print('R2 Score:', r2_score(y_test, svm_preds['poly_svr_pred']))\n"
   ]
  },
  {
   "cell_type": "code",
   "execution_count": null,
   "metadata": {},
   "outputs": [],
   "source": [
    "plt.plot(y_test, svm_preds['linear_svr_pred'], 'o')\n",
    "plt.xlabel('True Free energy')\n",
    "plt.ylabel('Predicted Free energy')"
   ]
  },
  {
   "cell_type": "code",
   "execution_count": null,
   "metadata": {},
   "outputs": [],
   "source": [
    "plt.plot(y_test, svm_preds['rbf_svr_pred'], 'o')\n",
    "plt.xlabel('True Free energy')\n",
    "plt.ylabel('Predicted Free energy')"
   ]
  },
  {
   "cell_type": "code",
   "execution_count": null,
   "metadata": {},
   "outputs": [],
   "source": [
    "plt.plot(y_test, svm_preds['poly_svr_pred'], 'o')\n",
    "plt.xlabel('True Free energy')\n",
    "plt.ylabel('Predicted Free energy')"
   ]
  },
  {
   "cell_type": "code",
   "execution_count": null,
   "metadata": {},
   "outputs": [],
   "source": [
    "#Try implementing LR (https://www.geeksforgeeks.org/python-linear-regression-using-sklearn/), \n",
    "#You can load the calculated features with df = pd.read_csv(\"features.csv\") and then use the features to train the models\n",
    "#The target will be the Free energy column, the rest will be the features\n",
    "\n",
    "df = pd.read_csv(\"features.csv\")\n",
    "\n",
    "X = df.drop(['Free energy', 'Ids'], axis=1)\n",
    "Y = df['Free energy']\n",
    "X_train, X_test, y_train, y_test = train_test_split(X, Y, test_size=0.3, random_state=0)\n",
    "\n",
    "X_train = np.array(X_train)\n",
    "y_train = np.array(y_train).reshape(-1, 1)\n",
    "X_test = np.array(X_test)\n",
    "y_test = np.array(y_test)\n",
    "\n",
    "scaler = StandardScaler()\n",
    "X_train = scaler.fit_transform(X_train)\n",
    "X_test = scaler.transform(X_test)\n",
    "\n",
    "\n",
    "logit = LinearRegression()\n",
    "logit.fit(X_train, y_train)\n",
    "y_test_pred = logit.predict(X_test)\n",
    "\n",
    "np.mean(y_test_pred == y_test)"
   ]
  },
  {
   "cell_type": "code",
   "execution_count": null,
   "metadata": {},
   "outputs": [],
   "source": [
    "print('Mean Squared Error:', metrics.mean_squared_error(y_test, y_test_pred))\n",
    "print('R2 Score:', metrics.r2_score(y_test, y_test_pred))"
   ]
  },
  {
   "cell_type": "code",
   "execution_count": null,
   "metadata": {},
   "outputs": [],
   "source": [
    "plt.plot(y_test, y_test_pred, 'o')\n",
    "plt.xlabel('True Free energy')\n",
    "plt.ylabel('Predicted Free energy')"
   ]
  },
  {
   "cell_type": "code",
   "execution_count": 42,
   "metadata": {},
   "outputs": [],
   "source": [
    "#Try implementing, RF (https://www.geeksforgeeks.org/random-forest-regression-in-python/) \n",
    "#You can load the calculated features with df = pd.read_csv(\"features.csv\") and then use the features to train the models\n",
    "#The target will be the Free energy column, the rest will be the features\n",
    "#combines multiple \"trees\"\n",
    "\n",
    "df = pd.read_csv(\"features.csv\")\n",
    "\n",
    "X = df.drop(['Free energy', 'Ids'], axis=1)\n",
    "Y = df['Free energy']\n",
    "X_train, X_test, y_train, y_test = train_test_split(X, Y, test_size=0.3, random_state=0)\n",
    "label_encoder = LabelEncoder()\n",
    "x_categorical = df.select_dtypes(include=['object']).apply(label_encoder.fit_transform)\n",
    "x_numerical = df.select_dtypes(exclude=['object']).values\n",
    "x = pd.concat([pd.DataFrame(x_numerical), x_categorical], axis=1).values\n",
    "\n",
    "# Fitting Random Forest Regression to the dataset\n",
    "regressor = RandomForestRegressor(n_estimators=10, random_state=0, oob_score=True)\n",
    "scaler = StandardScaler()\n",
    "X_train = scaler.fit_transform(X_train)\n",
    "X_test = scaler.transform(X_test)\n",
    "# Fit the regressor with x and y data\n",
    "regressor.fit(X_train, y_train)\n",
    "\n",
    "y_test_pred = regressor.predict(X_test)\n",
    "\n"
   ]
  },
  {
   "cell_type": "code",
   "execution_count": null,
   "metadata": {},
   "outputs": [],
   "source": [
    "print('Mean Squared Error:', metrics.mean_squared_error(y_test, y_test_pred))\n",
    "print('R2 Score:', metrics.r2_score(y_test, y_test_pred))"
   ]
  },
  {
   "cell_type": "code",
   "execution_count": null,
   "metadata": {},
   "outputs": [],
   "source": [
    "plt.plot(y_test, y_test_pred, 'o')\n",
    "plt.xlabel('True Free energy')\n",
    "plt.ylabel('Predicted Free energy')"
   ]
  },
  {
   "cell_type": "code",
   "execution_count": 56,
   "metadata": {},
   "outputs": [],
   "source": [
    "#Try implementing XGBoost (https://machinelearningmastery.com/xgboost-for-regression/)\n",
    "#You can load the calculated features with df = pd.read_csv(\"features.csv\") and then use the features to train the models\n",
    "#The target will be the Free energy column, the rest will be the features\n",
    "\n",
    "\n",
    "df = pd.read_csv(\"features.csv\")\n",
    "X_test, X_train, y_test, y_train = train_test_split(df.drop(['Free energy', 'Ids'], axis=1), df['Free energy'], test_size=0.3, random_state=0)\n",
    "scaler = StandardScaler()   \n",
    "X_train = scaler.fit_transform(X_train)\n",
    "X_test = scaler.transform(X_test)\n",
    "\n",
    "model = XGBRegressor()\n",
    "model.fit(X_train, y_train)\n",
    "\n",
    "y_test_pred = model.predict(X_test)\n",
    "\n",
    "\n",
    "\n",
    "\n"
   ]
  },
  {
   "cell_type": "code",
   "execution_count": null,
   "metadata": {},
   "outputs": [],
   "source": [
    "print('Mean Squared Error:', metrics.mean_squared_error(y_test, y_test_pred))\n",
    "print('R2 Score:', metrics.r2_score(y_test, y_test_pred))"
   ]
  },
  {
   "cell_type": "code",
   "execution_count": null,
   "metadata": {},
   "outputs": [],
   "source": [
    "\n",
    "plt.plot(y_test, y_test_pred, 'o')\n",
    "plt.xlabel('True Free energy')\n",
    "plt.ylabel('Predicted Free energy')\n",
    "plt.plot([np.min(y_test), np.max(y_test)], [np.min(y_test_pred), np.max(y_test_pred)], 'k--')"
   ]
  },
  {
   "cell_type": "code",
   "execution_count": 4,
   "metadata": {},
   "outputs": [
    {
     "name": "stderr",
     "output_type": "stream",
     "text": [
      "2024-11-03 16:51:24.570204: E external/local_xla/xla/stream_executor/cuda/cuda_fft.cc:485] Unable to register cuFFT factory: Attempting to register factory for plugin cuFFT when one has already been registered\n",
      "2024-11-03 16:51:24.658756: E external/local_xla/xla/stream_executor/cuda/cuda_dnn.cc:8454] Unable to register cuDNN factory: Attempting to register factory for plugin cuDNN when one has already been registered\n",
      "2024-11-03 16:51:24.683144: E external/local_xla/xla/stream_executor/cuda/cuda_blas.cc:1452] Unable to register cuBLAS factory: Attempting to register factory for plugin cuBLAS when one has already been registered\n",
      "2024-11-03 16:51:24.869132: I tensorflow/core/platform/cpu_feature_guard.cc:210] This TensorFlow binary is optimized to use available CPU instructions in performance-critical operations.\n",
      "To enable the following instructions: AVX2 FMA, in other operations, rebuild TensorFlow with the appropriate compiler flags.\n",
      "2024-11-03 16:51:26.527405: W tensorflow/compiler/tf2tensorrt/utils/py_utils.cc:38] TF-TRT Warning: Could not find TensorRT\n",
      "WARNING: All log messages before absl::InitializeLog() is called are written to STDERR\n",
      "I0000 00:00:1730652689.784296   67845 cuda_executor.cc:1001] could not open file to read NUMA node: /sys/bus/pci/devices/0000:01:00.0/numa_node\n",
      "Your kernel may have been built without NUMA support.\n",
      "I0000 00:00:1730652690.021302   67845 cuda_executor.cc:1001] could not open file to read NUMA node: /sys/bus/pci/devices/0000:01:00.0/numa_node\n",
      "Your kernel may have been built without NUMA support.\n",
      "I0000 00:00:1730652690.021676   67845 cuda_executor.cc:1001] could not open file to read NUMA node: /sys/bus/pci/devices/0000:01:00.0/numa_node\n",
      "Your kernel may have been built without NUMA support.\n"
     ]
    }
   ],
   "source": [
    "from keras.callbacks import ModelCheckpoint, History\n",
    "from keras.models import Sequential\n",
    "from keras.layers import Dense, Dropout\n",
    "from keras.optimizers import Adam\n",
    "import tensorflow as tf\n",
    "tf.config.list_physical_devices('GPU')\n",
    "import pandas as pd\n",
    "import numpy as np\n",
    "from sklearn.model_selection import train_test_split\n",
    "from sklearn.preprocessing import StandardScaler"
   ]
  },
  {
   "cell_type": "code",
   "execution_count": 9,
   "metadata": {},
   "outputs": [],
   "source": [
    "df = pd.read_csv(\"features.csv\")\n",
    "X_test, X_train, y_test, y_train = train_test_split(df.drop(['Free energy', 'Ids'], axis=1), df['Free energy'], test_size=0.3, random_state=0)\n",
    "scaler = StandardScaler()   \n",
    "X_train = scaler.fit_transform(X_train)\n",
    "X_test = scaler.transform(X_test)\n"
   ]
  },
  {
   "cell_type": "code",
   "execution_count": 41,
   "metadata": {},
   "outputs": [],
   "source": [
    "NN_model = Sequential()\n",
    "#NN_model.add(Dense(32, input_dim=X_train.shape[1], activation='relu'))\n",
    "NN_model.add(Dense(600, activation='relu'))\n",
    "#NN_model.add(Dense(250, activation='relu'))\n",
    "NN_model.add(Dense(1, activation='linear'))\n",
    "NN_model.compile(optimizer = \"adam\", loss = 'mse')\n",
    "\n",
    "# tf.keras.layers.Dense(300, activation=tf.nn.relu),\n",
    "# tf.keras.layers.Dense(250, activation=tf.nn.relu),\n",
    "# tf.keras.layers.Dense(235, activation=tf.nn.relu),\n",
    "# tf.keras.layers.Dense(200, activation=tf.nn.relu),\n",
    "# tf.keras.layers.Dense(125, activation=tf.nn.relu),\n",
    "# tf.keras.layers.Dense(75, activation=tf.nn.relu),\n",
    "\n"
   ]
  },
  {
   "cell_type": "code",
   "execution_count": null,
   "metadata": {},
   "outputs": [],
   "source": [
    "history = NN_model.fit(X_train, y_train, epochs=100, batch_size=32, validation_split = 0.2)"
   ]
  },
  {
   "cell_type": "code",
   "execution_count": null,
   "metadata": {},
   "outputs": [],
   "source": [
    "plt.plot(history.history['loss'], label='train')\n",
    "plt.plot(history.history['val_loss'], label='validation')\n",
    "plt.legend()\n",
    "plt.show()"
   ]
  },
  {
   "cell_type": "code",
   "execution_count": null,
   "metadata": {},
   "outputs": [],
   "source": [
    "print('Best validation loss:', np.min(history.history['val_loss']), np.argmin(history.history['val_loss']))"
   ]
  },
  {
   "cell_type": "code",
   "execution_count": null,
   "metadata": {},
   "outputs": [],
   "source": [
    "y_test_pred = NN_model.predict(X_test)"
   ]
  },
  {
   "cell_type": "code",
   "execution_count": null,
   "metadata": {},
   "outputs": [],
   "source": [
    "print('Mean Squared Error:', metrics.mean_squared_error(y_test, y_test_pred))\n",
    "print('R2 Score:', metrics.r2_score(y_test, y_test_pred))"
   ]
  },
  {
   "cell_type": "code",
   "execution_count": null,
   "metadata": {},
   "outputs": [],
   "source": [
    "#keras tuner check this tutorial https://haneulkim.medium.com/hyperparameter-tuning-with-keras-tuner-full-tutorial-f8128397e857"
   ]
  },
  {
   "cell_type": "code",
   "execution_count": 5,
   "metadata": {},
   "outputs": [],
   "source": [
    "import kerastuner as kt"
   ]
  },
  {
   "cell_type": "code",
   "execution_count": 6,
   "metadata": {},
   "outputs": [],
   "source": [
    "def build_model(hp):\n",
    "    num_layers = hp.Int('num_layers', min_value=1, max_value=3, step=1)\n",
    "    units_per_layer = hp.Int('units_per_layer', min_value=32, max_value=512, step=32)\n",
    "    dropout_rate = hp.Float('dropout_rate', min_value=0.0, max_value=0.4,step=0.1)\n",
    "    learning_rate = hp.Choice('learning_rate', values=[1e-2, 1e-3, 1e-4])\n",
    "    model = Sequential()\n",
    "    for i in range(num_layers):\n",
    "        model.add(Dense(units=units_per_layer, activation='relu'))\n",
    "        model.add(Dropout(dropout_rate))\n",
    "    model.add(Dense(1, activation='linear'))\n",
    "    model.compile(optimizer=Adam(learning_rate=learning_rate), loss='mse')\n",
    "    return model"
   ]
  },
  {
   "cell_type": "code",
   "execution_count": null,
   "metadata": {},
   "outputs": [],
   "source": [
    "obj = kt.Objective('val_loss', direction='min')\n",
    "tuner = kt.RandomSearch(build_model, objective=obj, max_trials=500, executions_per_trial=1,\n",
    "                               project_name=\"Hyper tuning\", directory=\"tuning\")"
   ]
  },
  {
   "cell_type": "code",
   "execution_count": null,
   "metadata": {},
   "outputs": [],
   "source": [
    "tuner.search(X_train, y_train, epochs=60, validation_split=0.2)"
   ]
  },
  {
   "cell_type": "code",
   "execution_count": 9,
   "metadata": {},
   "outputs": [],
   "source": [
    "best_hps = tuner.get_best_hyperparameters(num_trials=1)[0]"
   ]
  },
  {
   "cell_type": "code",
   "execution_count": null,
   "metadata": {},
   "outputs": [],
   "source": [
    "print(best_hps.values)"
   ]
  },
  {
   "cell_type": "code",
   "execution_count": 11,
   "metadata": {},
   "outputs": [],
   "source": [
    "best_model = tuner.hypermodel.build(best_hps)"
   ]
  },
  {
   "cell_type": "code",
   "execution_count": 32,
   "metadata": {},
   "outputs": [],
   "source": [
    "NN_model = Sequential()\n",
    "NN_model.add(Dense(192, input_dim=X_train.shape[1], activation='relu'))\n",
    "NN_model.add(Dropout(0.2))\n",
    "NN_model.add(Dense(192, activation='relu'))\n",
    "NN_model.add(Dropout(0.2))\n",
    "NN_model.add(Dense(192, activation='relu'))\n",
    "NN_model.add(Dropout(0.2))\n",
    "NN_model.add(Dense(1, activation='linear'))\n",
    "NN_model.compile(optimizer =Adam(learning_rate=0.0001), loss = 'mse')"
   ]
  },
  {
   "cell_type": "code",
   "execution_count": 33,
   "metadata": {},
   "outputs": [],
   "source": [
    "callbacks = [ModelCheckpoint(filepath='best_model.keras', monitor='val_loss', save_best_only=True)]"
   ]
  },
  {
   "cell_type": "code",
   "execution_count": null,
   "metadata": {},
   "outputs": [],
   "source": [
    "history = NN_model.fit(X_train, y_train, epochs=500, validation_split=0.2, callbacks=callbacks)"
   ]
  },
  {
   "cell_type": "code",
   "execution_count": null,
   "metadata": {},
   "outputs": [],
   "source": [
    "plt.plot(history.history['loss'], label='train')\n",
    "plt.plot(history.history['val_loss'], label='validation')\n",
    "print('Best validation loss:', np.min(history.history['val_loss']), np.argmin(history.history['val_loss']))\n",
    "plt.legend()\n",
    "plt.show()"
   ]
  },
  {
   "cell_type": "code",
   "execution_count": 36,
   "metadata": {},
   "outputs": [],
   "source": [
    "NN_model.load_weights('best_model.keras')"
   ]
  },
  {
   "cell_type": "code",
   "execution_count": null,
   "metadata": {},
   "outputs": [],
   "source": [
    "y_pred = NN_model.predict(X_test)"
   ]
  },
  {
   "cell_type": "code",
   "execution_count": null,
   "metadata": {},
   "outputs": [],
   "source": [
    "print('Mean Squared Error:', metrics.mean_squared_error(y_test, y_pred))\n",
    "print('R2 Score:', metrics.r2_score(y_test, y_pred))"
   ]
  },
  {
   "cell_type": "code",
   "execution_count": null,
   "metadata": {},
   "outputs": [],
   "source": [
    "plt.plot(y_test, y_pred, 'o')\n",
    "plt.xlabel('True Free energy')\n",
    "plt.ylabel('Predicted Free energy')\n",
    "plt.show()"
   ]
  },
  {
   "cell_type": "code",
   "execution_count": 10,
   "metadata": {},
   "outputs": [
    {
     "data": {
      "text/html": [
       "<div>\n",
       "<style scoped>\n",
       "    .dataframe tbody tr th:only-of-type {\n",
       "        vertical-align: middle;\n",
       "    }\n",
       "\n",
       "    .dataframe tbody tr th {\n",
       "        vertical-align: top;\n",
       "    }\n",
       "\n",
       "    .dataframe thead th {\n",
       "        text-align: right;\n",
       "    }\n",
       "</style>\n",
       "<table border=\"1\" class=\"dataframe\">\n",
       "  <thead>\n",
       "    <tr style=\"text-align: right;\">\n",
       "      <th></th>\n",
       "      <th>Molecular weight</th>\n",
       "      <th>Acceptors</th>\n",
       "      <th>Donors</th>\n",
       "      <th>LogP</th>\n",
       "      <th>Molecular Refractivity</th>\n",
       "      <th>Wiener index</th>\n",
       "      <th>Ids</th>\n",
       "      <th>PD_amide</th>\n",
       "      <th>PD_positive</th>\n",
       "      <th>PD_neutral</th>\n",
       "      <th>PD_heteroatom</th>\n",
       "      <th>PD_OH</th>\n",
       "      <th>PA_amide</th>\n",
       "      <th>PA_negative</th>\n",
       "      <th>PA_neutral</th>\n",
       "      <th>PA_aromatic</th>\n",
       "      <th>Free energy</th>\n",
       "      <th>P_logp</th>\n",
       "      <th>P_MR</th>\n",
       "    </tr>\n",
       "  </thead>\n",
       "  <tbody>\n",
       "    <tr>\n",
       "      <th>0</th>\n",
       "      <td>231.170319</td>\n",
       "      <td>2.0</td>\n",
       "      <td>3.0</td>\n",
       "      <td>-0.13160</td>\n",
       "      <td>60.5356</td>\n",
       "      <td>461.0</td>\n",
       "      <td>2tpi</td>\n",
       "      <td>24.0</td>\n",
       "      <td>0.0</td>\n",
       "      <td>0.0</td>\n",
       "      <td>0.0</td>\n",
       "      <td>5.0</td>\n",
       "      <td>23.0</td>\n",
       "      <td>5.0</td>\n",
       "      <td>4.0</td>\n",
       "      <td>1.0</td>\n",
       "      <td>-5.874825</td>\n",
       "      <td>-0.665612</td>\n",
       "      <td>29.440791</td>\n",
       "    </tr>\n",
       "    <tr>\n",
       "      <th>1</th>\n",
       "      <td>147.112804</td>\n",
       "      <td>2.0</td>\n",
       "      <td>3.0</td>\n",
       "      <td>-0.85160</td>\n",
       "      <td>36.0603</td>\n",
       "      <td>130.0</td>\n",
       "      <td>4tln</td>\n",
       "      <td>6.0</td>\n",
       "      <td>9.0</td>\n",
       "      <td>4.0</td>\n",
       "      <td>0.0</td>\n",
       "      <td>2.0</td>\n",
       "      <td>6.0</td>\n",
       "      <td>6.0</td>\n",
       "      <td>4.0</td>\n",
       "      <td>7.0</td>\n",
       "      <td>-5.072544</td>\n",
       "      <td>-0.403714</td>\n",
       "      <td>34.962933</td>\n",
       "    </tr>\n",
       "    <tr>\n",
       "      <th>2</th>\n",
       "      <td>363.057999</td>\n",
       "      <td>10.0</td>\n",
       "      <td>6.0</td>\n",
       "      <td>-2.56970</td>\n",
       "      <td>76.4808</td>\n",
       "      <td>1230.0</td>\n",
       "      <td>1rnt</td>\n",
       "      <td>9.0</td>\n",
       "      <td>6.0</td>\n",
       "      <td>6.0</td>\n",
       "      <td>0.0</td>\n",
       "      <td>3.0</td>\n",
       "      <td>9.0</td>\n",
       "      <td>9.0</td>\n",
       "      <td>10.0</td>\n",
       "      <td>7.0</td>\n",
       "      <td>-7.070675</td>\n",
       "      <td>-0.619947</td>\n",
       "      <td>36.111405</td>\n",
       "    </tr>\n",
       "    <tr>\n",
       "      <th>3</th>\n",
       "      <td>182.081170</td>\n",
       "      <td>2.0</td>\n",
       "      <td>3.0</td>\n",
       "      <td>-0.37020</td>\n",
       "      <td>46.1227</td>\n",
       "      <td>268.0</td>\n",
       "      <td>4ts1</td>\n",
       "      <td>11.0</td>\n",
       "      <td>4.0</td>\n",
       "      <td>5.0</td>\n",
       "      <td>1.0</td>\n",
       "      <td>4.0</td>\n",
       "      <td>12.0</td>\n",
       "      <td>11.0</td>\n",
       "      <td>10.0</td>\n",
       "      <td>5.0</td>\n",
       "      <td>-6.727787</td>\n",
       "      <td>-0.498970</td>\n",
       "      <td>31.695033</td>\n",
       "    </tr>\n",
       "    <tr>\n",
       "      <th>4</th>\n",
       "      <td>519.213437</td>\n",
       "      <td>5.0</td>\n",
       "      <td>5.0</td>\n",
       "      <td>3.26060</td>\n",
       "      <td>135.1412</td>\n",
       "      <td>4249.0</td>\n",
       "      <td>4tmn</td>\n",
       "      <td>16.0</td>\n",
       "      <td>9.0</td>\n",
       "      <td>5.0</td>\n",
       "      <td>1.0</td>\n",
       "      <td>6.0</td>\n",
       "      <td>16.0</td>\n",
       "      <td>13.0</td>\n",
       "      <td>10.0</td>\n",
       "      <td>9.0</td>\n",
       "      <td>-13.859616</td>\n",
       "      <td>-0.503965</td>\n",
       "      <td>34.127585</td>\n",
       "    </tr>\n",
       "    <tr>\n",
       "      <th>...</th>\n",
       "      <td>...</td>\n",
       "      <td>...</td>\n",
       "      <td>...</td>\n",
       "      <td>...</td>\n",
       "      <td>...</td>\n",
       "      <td>...</td>\n",
       "      <td>...</td>\n",
       "      <td>...</td>\n",
       "      <td>...</td>\n",
       "      <td>...</td>\n",
       "      <td>...</td>\n",
       "      <td>...</td>\n",
       "      <td>...</td>\n",
       "      <td>...</td>\n",
       "      <td>...</td>\n",
       "      <td>...</td>\n",
       "      <td>...</td>\n",
       "      <td>...</td>\n",
       "      <td>...</td>\n",
       "    </tr>\n",
       "    <tr>\n",
       "      <th>5311</th>\n",
       "      <td>253.050394</td>\n",
       "      <td>3.0</td>\n",
       "      <td>2.0</td>\n",
       "      <td>1.21620</td>\n",
       "      <td>64.9371</td>\n",
       "      <td>478.0</td>\n",
       "      <td>6d1i</td>\n",
       "      <td>6.0</td>\n",
       "      <td>9.0</td>\n",
       "      <td>5.0</td>\n",
       "      <td>0.0</td>\n",
       "      <td>0.0</td>\n",
       "      <td>5.0</td>\n",
       "      <td>4.0</td>\n",
       "      <td>2.0</td>\n",
       "      <td>8.0</td>\n",
       "      <td>-5.577268</td>\n",
       "      <td>-0.570889</td>\n",
       "      <td>33.634874</td>\n",
       "    </tr>\n",
       "    <tr>\n",
       "      <th>5312</th>\n",
       "      <td>212.025563</td>\n",
       "      <td>3.0</td>\n",
       "      <td>1.0</td>\n",
       "      <td>0.53470</td>\n",
       "      <td>50.5625</td>\n",
       "      <td>260.0</td>\n",
       "      <td>6uh0</td>\n",
       "      <td>5.0</td>\n",
       "      <td>7.0</td>\n",
       "      <td>6.0</td>\n",
       "      <td>1.0</td>\n",
       "      <td>3.0</td>\n",
       "      <td>6.0</td>\n",
       "      <td>5.0</td>\n",
       "      <td>5.0</td>\n",
       "      <td>8.0</td>\n",
       "      <td>-8.272838</td>\n",
       "      <td>-0.393956</td>\n",
       "      <td>34.876296</td>\n",
       "    </tr>\n",
       "    <tr>\n",
       "      <th>5313</th>\n",
       "      <td>404.151622</td>\n",
       "      <td>6.0</td>\n",
       "      <td>1.0</td>\n",
       "      <td>4.72902</td>\n",
       "      <td>114.4347</td>\n",
       "      <td>2134.0</td>\n",
       "      <td>6k04</td>\n",
       "      <td>10.0</td>\n",
       "      <td>2.0</td>\n",
       "      <td>2.0</td>\n",
       "      <td>1.0</td>\n",
       "      <td>2.0</td>\n",
       "      <td>9.0</td>\n",
       "      <td>3.0</td>\n",
       "      <td>4.0</td>\n",
       "      <td>4.0</td>\n",
       "      <td>-10.960875</td>\n",
       "      <td>-0.186890</td>\n",
       "      <td>36.583310</td>\n",
       "    </tr>\n",
       "    <tr>\n",
       "      <th>5314</th>\n",
       "      <td>436.991713</td>\n",
       "      <td>8.0</td>\n",
       "      <td>5.0</td>\n",
       "      <td>0.42410</td>\n",
       "      <td>89.9438</td>\n",
       "      <td>1701.0</td>\n",
       "      <td>6ic2</td>\n",
       "      <td>8.0</td>\n",
       "      <td>7.0</td>\n",
       "      <td>6.0</td>\n",
       "      <td>1.0</td>\n",
       "      <td>3.0</td>\n",
       "      <td>10.0</td>\n",
       "      <td>4.0</td>\n",
       "      <td>4.0</td>\n",
       "      <td>8.0</td>\n",
       "      <td>-8.229820</td>\n",
       "      <td>-0.330392</td>\n",
       "      <td>33.531504</td>\n",
       "    </tr>\n",
       "    <tr>\n",
       "      <th>5315</th>\n",
       "      <td>307.062677</td>\n",
       "      <td>4.0</td>\n",
       "      <td>4.0</td>\n",
       "      <td>1.68360</td>\n",
       "      <td>78.5634</td>\n",
       "      <td>1088.0</td>\n",
       "      <td>6gxe</td>\n",
       "      <td>8.0</td>\n",
       "      <td>8.0</td>\n",
       "      <td>5.0</td>\n",
       "      <td>1.0</td>\n",
       "      <td>2.0</td>\n",
       "      <td>8.0</td>\n",
       "      <td>3.0</td>\n",
       "      <td>2.0</td>\n",
       "      <td>8.0</td>\n",
       "      <td>-10.967416</td>\n",
       "      <td>-0.337852</td>\n",
       "      <td>33.556544</td>\n",
       "    </tr>\n",
       "  </tbody>\n",
       "</table>\n",
       "<p>5316 rows × 19 columns</p>\n",
       "</div>"
      ],
      "text/plain": [
       "      Molecular weight  Acceptors  Donors     LogP  Molecular Refractivity  \\\n",
       "0           231.170319        2.0     3.0 -0.13160                 60.5356   \n",
       "1           147.112804        2.0     3.0 -0.85160                 36.0603   \n",
       "2           363.057999       10.0     6.0 -2.56970                 76.4808   \n",
       "3           182.081170        2.0     3.0 -0.37020                 46.1227   \n",
       "4           519.213437        5.0     5.0  3.26060                135.1412   \n",
       "...                ...        ...     ...      ...                     ...   \n",
       "5311        253.050394        3.0     2.0  1.21620                 64.9371   \n",
       "5312        212.025563        3.0     1.0  0.53470                 50.5625   \n",
       "5313        404.151622        6.0     1.0  4.72902                114.4347   \n",
       "5314        436.991713        8.0     5.0  0.42410                 89.9438   \n",
       "5315        307.062677        4.0     4.0  1.68360                 78.5634   \n",
       "\n",
       "      Wiener index   Ids  PD_amide  PD_positive  PD_neutral  PD_heteroatom  \\\n",
       "0            461.0  2tpi      24.0          0.0         0.0            0.0   \n",
       "1            130.0  4tln       6.0          9.0         4.0            0.0   \n",
       "2           1230.0  1rnt       9.0          6.0         6.0            0.0   \n",
       "3            268.0  4ts1      11.0          4.0         5.0            1.0   \n",
       "4           4249.0  4tmn      16.0          9.0         5.0            1.0   \n",
       "...            ...   ...       ...          ...         ...            ...   \n",
       "5311         478.0  6d1i       6.0          9.0         5.0            0.0   \n",
       "5312         260.0  6uh0       5.0          7.0         6.0            1.0   \n",
       "5313        2134.0  6k04      10.0          2.0         2.0            1.0   \n",
       "5314        1701.0  6ic2       8.0          7.0         6.0            1.0   \n",
       "5315        1088.0  6gxe       8.0          8.0         5.0            1.0   \n",
       "\n",
       "      PD_OH  PA_amide  PA_negative  PA_neutral  PA_aromatic  Free energy  \\\n",
       "0       5.0      23.0          5.0         4.0          1.0    -5.874825   \n",
       "1       2.0       6.0          6.0         4.0          7.0    -5.072544   \n",
       "2       3.0       9.0          9.0        10.0          7.0    -7.070675   \n",
       "3       4.0      12.0         11.0        10.0          5.0    -6.727787   \n",
       "4       6.0      16.0         13.0        10.0          9.0   -13.859616   \n",
       "...     ...       ...          ...         ...          ...          ...   \n",
       "5311    0.0       5.0          4.0         2.0          8.0    -5.577268   \n",
       "5312    3.0       6.0          5.0         5.0          8.0    -8.272838   \n",
       "5313    2.0       9.0          3.0         4.0          4.0   -10.960875   \n",
       "5314    3.0      10.0          4.0         4.0          8.0    -8.229820   \n",
       "5315    2.0       8.0          3.0         2.0          8.0   -10.967416   \n",
       "\n",
       "        P_logp       P_MR  \n",
       "0    -0.665612  29.440791  \n",
       "1    -0.403714  34.962933  \n",
       "2    -0.619947  36.111405  \n",
       "3    -0.498970  31.695033  \n",
       "4    -0.503965  34.127585  \n",
       "...        ...        ...  \n",
       "5311 -0.570889  33.634874  \n",
       "5312 -0.393956  34.876296  \n",
       "5313 -0.186890  36.583310  \n",
       "5314 -0.330392  33.531504  \n",
       "5315 -0.337852  33.556544  \n",
       "\n",
       "[5316 rows x 19 columns]"
      ]
     },
     "execution_count": 10,
     "metadata": {},
     "output_type": "execute_result"
    }
   ],
   "source": [
    "df"
   ]
  },
  {
   "cell_type": "code",
   "execution_count": 11,
   "metadata": {},
   "outputs": [],
   "source": [
    "#Data agumentation\n",
    "df_aug = df.copy()\n"
   ]
  },
  {
   "cell_type": "code",
   "execution_count": null,
   "metadata": {},
   "outputs": [],
   "source": [
    "zeroarray = np.zeros((5316, 1))\n",
    "#5316\n",
    "print(zeroarray\n",
    "      )"
   ]
  },
  {
   "cell_type": "code",
   "execution_count": 16,
   "metadata": {},
   "outputs": [],
   "source": [
    "for col in df_aug.columns:\n",
    "    if col[0] == \"P\": \n",
    "        df_aug[col] = zeroarray\n",
    "        \n",
    "    \n"
   ]
  },
  {
   "cell_type": "code",
   "execution_count": 18,
   "metadata": {},
   "outputs": [],
   "source": [
    "df_aug['Free energy'] = zeroarray"
   ]
  },
  {
   "cell_type": "code",
   "execution_count": 20,
   "metadata": {},
   "outputs": [],
   "source": [
    "df_aug.to_csv(\"features_aug.csv\", index=False)"
   ]
  },
  {
   "cell_type": "code",
   "execution_count": 21,
   "metadata": {},
   "outputs": [],
   "source": [
    "#merge dataframes\n",
    "df = pd.read_csv(\"features.csv\")\n",
    "df_aug = pd.read_csv(\"features_aug.csv\")\n",
    "df_merged = pd.concat([df, df_aug], axis=0)"
   ]
  },
  {
   "cell_type": "code",
   "execution_count": 23,
   "metadata": {},
   "outputs": [],
   "source": [
    "df_merged.reset_index(drop=True, inplace=True)"
   ]
  },
  {
   "cell_type": "code",
   "execution_count": 24,
   "metadata": {},
   "outputs": [
    {
     "data": {
      "text/html": [
       "<div>\n",
       "<style scoped>\n",
       "    .dataframe tbody tr th:only-of-type {\n",
       "        vertical-align: middle;\n",
       "    }\n",
       "\n",
       "    .dataframe tbody tr th {\n",
       "        vertical-align: top;\n",
       "    }\n",
       "\n",
       "    .dataframe thead th {\n",
       "        text-align: right;\n",
       "    }\n",
       "</style>\n",
       "<table border=\"1\" class=\"dataframe\">\n",
       "  <thead>\n",
       "    <tr style=\"text-align: right;\">\n",
       "      <th></th>\n",
       "      <th>Molecular weight</th>\n",
       "      <th>Acceptors</th>\n",
       "      <th>Donors</th>\n",
       "      <th>LogP</th>\n",
       "      <th>Molecular Refractivity</th>\n",
       "      <th>Wiener index</th>\n",
       "      <th>Ids</th>\n",
       "      <th>PD_amide</th>\n",
       "      <th>PD_positive</th>\n",
       "      <th>PD_neutral</th>\n",
       "      <th>PD_heteroatom</th>\n",
       "      <th>PD_OH</th>\n",
       "      <th>PA_amide</th>\n",
       "      <th>PA_negative</th>\n",
       "      <th>PA_neutral</th>\n",
       "      <th>PA_aromatic</th>\n",
       "      <th>Free energy</th>\n",
       "      <th>P_logp</th>\n",
       "      <th>P_MR</th>\n",
       "    </tr>\n",
       "  </thead>\n",
       "  <tbody>\n",
       "    <tr>\n",
       "      <th>0</th>\n",
       "      <td>231.170319</td>\n",
       "      <td>2.0</td>\n",
       "      <td>3.0</td>\n",
       "      <td>-0.13160</td>\n",
       "      <td>60.5356</td>\n",
       "      <td>461.0</td>\n",
       "      <td>2tpi</td>\n",
       "      <td>24.0</td>\n",
       "      <td>0.0</td>\n",
       "      <td>0.0</td>\n",
       "      <td>0.0</td>\n",
       "      <td>5.0</td>\n",
       "      <td>23.0</td>\n",
       "      <td>5.0</td>\n",
       "      <td>4.0</td>\n",
       "      <td>1.0</td>\n",
       "      <td>-5.874825</td>\n",
       "      <td>-0.665612</td>\n",
       "      <td>29.440791</td>\n",
       "    </tr>\n",
       "    <tr>\n",
       "      <th>1</th>\n",
       "      <td>147.112804</td>\n",
       "      <td>2.0</td>\n",
       "      <td>3.0</td>\n",
       "      <td>-0.85160</td>\n",
       "      <td>36.0603</td>\n",
       "      <td>130.0</td>\n",
       "      <td>4tln</td>\n",
       "      <td>6.0</td>\n",
       "      <td>9.0</td>\n",
       "      <td>4.0</td>\n",
       "      <td>0.0</td>\n",
       "      <td>2.0</td>\n",
       "      <td>6.0</td>\n",
       "      <td>6.0</td>\n",
       "      <td>4.0</td>\n",
       "      <td>7.0</td>\n",
       "      <td>-5.072544</td>\n",
       "      <td>-0.403714</td>\n",
       "      <td>34.962933</td>\n",
       "    </tr>\n",
       "    <tr>\n",
       "      <th>2</th>\n",
       "      <td>363.057999</td>\n",
       "      <td>10.0</td>\n",
       "      <td>6.0</td>\n",
       "      <td>-2.56970</td>\n",
       "      <td>76.4808</td>\n",
       "      <td>1230.0</td>\n",
       "      <td>1rnt</td>\n",
       "      <td>9.0</td>\n",
       "      <td>6.0</td>\n",
       "      <td>6.0</td>\n",
       "      <td>0.0</td>\n",
       "      <td>3.0</td>\n",
       "      <td>9.0</td>\n",
       "      <td>9.0</td>\n",
       "      <td>10.0</td>\n",
       "      <td>7.0</td>\n",
       "      <td>-7.070675</td>\n",
       "      <td>-0.619947</td>\n",
       "      <td>36.111405</td>\n",
       "    </tr>\n",
       "    <tr>\n",
       "      <th>3</th>\n",
       "      <td>182.081170</td>\n",
       "      <td>2.0</td>\n",
       "      <td>3.0</td>\n",
       "      <td>-0.37020</td>\n",
       "      <td>46.1227</td>\n",
       "      <td>268.0</td>\n",
       "      <td>4ts1</td>\n",
       "      <td>11.0</td>\n",
       "      <td>4.0</td>\n",
       "      <td>5.0</td>\n",
       "      <td>1.0</td>\n",
       "      <td>4.0</td>\n",
       "      <td>12.0</td>\n",
       "      <td>11.0</td>\n",
       "      <td>10.0</td>\n",
       "      <td>5.0</td>\n",
       "      <td>-6.727787</td>\n",
       "      <td>-0.498970</td>\n",
       "      <td>31.695033</td>\n",
       "    </tr>\n",
       "    <tr>\n",
       "      <th>4</th>\n",
       "      <td>519.213437</td>\n",
       "      <td>5.0</td>\n",
       "      <td>5.0</td>\n",
       "      <td>3.26060</td>\n",
       "      <td>135.1412</td>\n",
       "      <td>4249.0</td>\n",
       "      <td>4tmn</td>\n",
       "      <td>16.0</td>\n",
       "      <td>9.0</td>\n",
       "      <td>5.0</td>\n",
       "      <td>1.0</td>\n",
       "      <td>6.0</td>\n",
       "      <td>16.0</td>\n",
       "      <td>13.0</td>\n",
       "      <td>10.0</td>\n",
       "      <td>9.0</td>\n",
       "      <td>-13.859616</td>\n",
       "      <td>-0.503965</td>\n",
       "      <td>34.127585</td>\n",
       "    </tr>\n",
       "    <tr>\n",
       "      <th>...</th>\n",
       "      <td>...</td>\n",
       "      <td>...</td>\n",
       "      <td>...</td>\n",
       "      <td>...</td>\n",
       "      <td>...</td>\n",
       "      <td>...</td>\n",
       "      <td>...</td>\n",
       "      <td>...</td>\n",
       "      <td>...</td>\n",
       "      <td>...</td>\n",
       "      <td>...</td>\n",
       "      <td>...</td>\n",
       "      <td>...</td>\n",
       "      <td>...</td>\n",
       "      <td>...</td>\n",
       "      <td>...</td>\n",
       "      <td>...</td>\n",
       "      <td>...</td>\n",
       "      <td>...</td>\n",
       "    </tr>\n",
       "    <tr>\n",
       "      <th>10627</th>\n",
       "      <td>253.050394</td>\n",
       "      <td>3.0</td>\n",
       "      <td>2.0</td>\n",
       "      <td>1.21620</td>\n",
       "      <td>64.9371</td>\n",
       "      <td>478.0</td>\n",
       "      <td>6d1i</td>\n",
       "      <td>0.0</td>\n",
       "      <td>0.0</td>\n",
       "      <td>0.0</td>\n",
       "      <td>0.0</td>\n",
       "      <td>0.0</td>\n",
       "      <td>0.0</td>\n",
       "      <td>0.0</td>\n",
       "      <td>0.0</td>\n",
       "      <td>0.0</td>\n",
       "      <td>0.000000</td>\n",
       "      <td>0.000000</td>\n",
       "      <td>0.000000</td>\n",
       "    </tr>\n",
       "    <tr>\n",
       "      <th>10628</th>\n",
       "      <td>212.025563</td>\n",
       "      <td>3.0</td>\n",
       "      <td>1.0</td>\n",
       "      <td>0.53470</td>\n",
       "      <td>50.5625</td>\n",
       "      <td>260.0</td>\n",
       "      <td>6uh0</td>\n",
       "      <td>0.0</td>\n",
       "      <td>0.0</td>\n",
       "      <td>0.0</td>\n",
       "      <td>0.0</td>\n",
       "      <td>0.0</td>\n",
       "      <td>0.0</td>\n",
       "      <td>0.0</td>\n",
       "      <td>0.0</td>\n",
       "      <td>0.0</td>\n",
       "      <td>0.000000</td>\n",
       "      <td>0.000000</td>\n",
       "      <td>0.000000</td>\n",
       "    </tr>\n",
       "    <tr>\n",
       "      <th>10629</th>\n",
       "      <td>404.151622</td>\n",
       "      <td>6.0</td>\n",
       "      <td>1.0</td>\n",
       "      <td>4.72902</td>\n",
       "      <td>114.4347</td>\n",
       "      <td>2134.0</td>\n",
       "      <td>6k04</td>\n",
       "      <td>0.0</td>\n",
       "      <td>0.0</td>\n",
       "      <td>0.0</td>\n",
       "      <td>0.0</td>\n",
       "      <td>0.0</td>\n",
       "      <td>0.0</td>\n",
       "      <td>0.0</td>\n",
       "      <td>0.0</td>\n",
       "      <td>0.0</td>\n",
       "      <td>0.000000</td>\n",
       "      <td>0.000000</td>\n",
       "      <td>0.000000</td>\n",
       "    </tr>\n",
       "    <tr>\n",
       "      <th>10630</th>\n",
       "      <td>436.991713</td>\n",
       "      <td>8.0</td>\n",
       "      <td>5.0</td>\n",
       "      <td>0.42410</td>\n",
       "      <td>89.9438</td>\n",
       "      <td>1701.0</td>\n",
       "      <td>6ic2</td>\n",
       "      <td>0.0</td>\n",
       "      <td>0.0</td>\n",
       "      <td>0.0</td>\n",
       "      <td>0.0</td>\n",
       "      <td>0.0</td>\n",
       "      <td>0.0</td>\n",
       "      <td>0.0</td>\n",
       "      <td>0.0</td>\n",
       "      <td>0.0</td>\n",
       "      <td>0.000000</td>\n",
       "      <td>0.000000</td>\n",
       "      <td>0.000000</td>\n",
       "    </tr>\n",
       "    <tr>\n",
       "      <th>10631</th>\n",
       "      <td>307.062677</td>\n",
       "      <td>4.0</td>\n",
       "      <td>4.0</td>\n",
       "      <td>1.68360</td>\n",
       "      <td>78.5634</td>\n",
       "      <td>1088.0</td>\n",
       "      <td>6gxe</td>\n",
       "      <td>0.0</td>\n",
       "      <td>0.0</td>\n",
       "      <td>0.0</td>\n",
       "      <td>0.0</td>\n",
       "      <td>0.0</td>\n",
       "      <td>0.0</td>\n",
       "      <td>0.0</td>\n",
       "      <td>0.0</td>\n",
       "      <td>0.0</td>\n",
       "      <td>0.000000</td>\n",
       "      <td>0.000000</td>\n",
       "      <td>0.000000</td>\n",
       "    </tr>\n",
       "  </tbody>\n",
       "</table>\n",
       "<p>10632 rows × 19 columns</p>\n",
       "</div>"
      ],
      "text/plain": [
       "       Molecular weight  Acceptors  Donors     LogP  Molecular Refractivity  \\\n",
       "0            231.170319        2.0     3.0 -0.13160                 60.5356   \n",
       "1            147.112804        2.0     3.0 -0.85160                 36.0603   \n",
       "2            363.057999       10.0     6.0 -2.56970                 76.4808   \n",
       "3            182.081170        2.0     3.0 -0.37020                 46.1227   \n",
       "4            519.213437        5.0     5.0  3.26060                135.1412   \n",
       "...                 ...        ...     ...      ...                     ...   \n",
       "10627        253.050394        3.0     2.0  1.21620                 64.9371   \n",
       "10628        212.025563        3.0     1.0  0.53470                 50.5625   \n",
       "10629        404.151622        6.0     1.0  4.72902                114.4347   \n",
       "10630        436.991713        8.0     5.0  0.42410                 89.9438   \n",
       "10631        307.062677        4.0     4.0  1.68360                 78.5634   \n",
       "\n",
       "       Wiener index   Ids  PD_amide  PD_positive  PD_neutral  PD_heteroatom  \\\n",
       "0             461.0  2tpi      24.0          0.0         0.0            0.0   \n",
       "1             130.0  4tln       6.0          9.0         4.0            0.0   \n",
       "2            1230.0  1rnt       9.0          6.0         6.0            0.0   \n",
       "3             268.0  4ts1      11.0          4.0         5.0            1.0   \n",
       "4            4249.0  4tmn      16.0          9.0         5.0            1.0   \n",
       "...             ...   ...       ...          ...         ...            ...   \n",
       "10627         478.0  6d1i       0.0          0.0         0.0            0.0   \n",
       "10628         260.0  6uh0       0.0          0.0         0.0            0.0   \n",
       "10629        2134.0  6k04       0.0          0.0         0.0            0.0   \n",
       "10630        1701.0  6ic2       0.0          0.0         0.0            0.0   \n",
       "10631        1088.0  6gxe       0.0          0.0         0.0            0.0   \n",
       "\n",
       "       PD_OH  PA_amide  PA_negative  PA_neutral  PA_aromatic  Free energy  \\\n",
       "0        5.0      23.0          5.0         4.0          1.0    -5.874825   \n",
       "1        2.0       6.0          6.0         4.0          7.0    -5.072544   \n",
       "2        3.0       9.0          9.0        10.0          7.0    -7.070675   \n",
       "3        4.0      12.0         11.0        10.0          5.0    -6.727787   \n",
       "4        6.0      16.0         13.0        10.0          9.0   -13.859616   \n",
       "...      ...       ...          ...         ...          ...          ...   \n",
       "10627    0.0       0.0          0.0         0.0          0.0     0.000000   \n",
       "10628    0.0       0.0          0.0         0.0          0.0     0.000000   \n",
       "10629    0.0       0.0          0.0         0.0          0.0     0.000000   \n",
       "10630    0.0       0.0          0.0         0.0          0.0     0.000000   \n",
       "10631    0.0       0.0          0.0         0.0          0.0     0.000000   \n",
       "\n",
       "         P_logp       P_MR  \n",
       "0     -0.665612  29.440791  \n",
       "1     -0.403714  34.962933  \n",
       "2     -0.619947  36.111405  \n",
       "3     -0.498970  31.695033  \n",
       "4     -0.503965  34.127585  \n",
       "...         ...        ...  \n",
       "10627  0.000000   0.000000  \n",
       "10628  0.000000   0.000000  \n",
       "10629  0.000000   0.000000  \n",
       "10630  0.000000   0.000000  \n",
       "10631  0.000000   0.000000  \n",
       "\n",
       "[10632 rows x 19 columns]"
      ]
     },
     "execution_count": 24,
     "metadata": {},
     "output_type": "execute_result"
    }
   ],
   "source": [
    "df_merged"
   ]
  },
  {
   "cell_type": "code",
   "execution_count": null,
   "metadata": {},
   "outputs": [],
   "source": [
    "#Repeat the ML training with the augmented data (df_merged)"
   ]
  }
 ],
 "metadata": {
  "kernelspec": {
   "display_name": "Python 3 (ipykernel)",
   "language": "python",
   "name": "python3"
  },
  "language_info": {
   "codemirror_mode": {
    "name": "ipython",
    "version": 3
   },
   "file_extension": ".py",
   "mimetype": "text/x-python",
   "name": "python",
   "nbconvert_exporter": "python",
   "pygments_lexer": "ipython3",
   "version": "3.10.12"
  }
 },
 "nbformat": 4,
 "nbformat_minor": 2
}
