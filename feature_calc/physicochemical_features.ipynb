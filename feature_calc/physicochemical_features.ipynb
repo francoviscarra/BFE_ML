{
 "cells": [
  {
   "cell_type": "code",
   "execution_count": 21,
   "metadata": {},
   "outputs": [],
   "source": [
    "from rdkit import Chem\n",
    "import rdkit.Chem.Lipinski as Lipinski\n",
    "import rdkit.Chem.Crippen as Crippen\n",
    "import pandas as pd\n",
    "import numpy as np\n",
    "import MDAnalysis as mda"
   ]
  },
  {
   "cell_type": "code",
   "execution_count": 22,
   "metadata": {},
   "outputs": [],
   "source": [
    "mol = Chem.rdmolfiles.MolFromMol2File(\"../dataset/refined-set/1a1e/1a1e_ligand.mol2\")"
   ]
  },
  {
   "cell_type": "code",
   "execution_count": 23,
   "metadata": {},
   "outputs": [],
   "source": [
    "#Hydrogen bond donors and acceptors in ligand https://www.rdkit.org/docs/source/rdkit.Chem.Lipinski.html\n",
    "L_A = Lipinski.NumHAcceptors(mol)\n",
    "L_D = Lipinski.NumHDonors(mol)"
   ]
  },
  {
   "cell_type": "code",
   "execution_count": 24,
   "metadata": {},
   "outputs": [
    {
     "name": "stdout",
     "output_type": "stream",
     "text": [
      "9\n",
      "2\n"
     ]
    }
   ],
   "source": [
    "print(L_A)\n",
    "print(L_D)"
   ]
  },
  {
   "cell_type": "code",
   "execution_count": 25,
   "metadata": {},
   "outputs": [],
   "source": [
    "#Octanol-water logP https://www.rdkit.org/docs/source/rdkit.Chem.Crippen.html\n",
    "LogP = Crippen.MolLogP(mol) "
   ]
  },
  {
   "cell_type": "code",
   "execution_count": 26,
   "metadata": {},
   "outputs": [
    {
     "name": "stdout",
     "output_type": "stream",
     "text": [
      "0.4552000000000014\n"
     ]
    }
   ],
   "source": [
    "print(LogP)"
   ]
  },
  {
   "cell_type": "code",
   "execution_count": 27,
   "metadata": {},
   "outputs": [],
   "source": [
    "#Molar Refractivity https://www.rdkit.org/docs/source/rdkit.Chem.Crippen.html\n",
    "MR = Crippen.MolMR(mol)"
   ]
  },
  {
   "cell_type": "code",
   "execution_count": 18,
   "metadata": {},
   "outputs": [
    {
     "name": "stdout",
     "output_type": "stream",
     "text": [
      "131.67240000000004\n"
     ]
    }
   ],
   "source": [
    "print(MR)"
   ]
  },
  {
   "cell_type": "code",
   "execution_count": 28,
   "metadata": {},
   "outputs": [],
   "source": [
    "#Wiener index http://www.scfbio-iitd.res.in/software/drugdesign/WINDEX/wienerindex.htm\n",
    "def wiener_index(m):\n",
    "    res = 0\n",
    "    amat = Chem.GetDistanceMatrix(m)\n",
    "    for i in range(m.GetNumAtoms()):\n",
    "        for j in range(i+1,m.GetNumAtoms()):\n",
    "            res += amat[i][j]\n",
    "    return res"
   ]
  },
  {
   "cell_type": "code",
   "execution_count": 29,
   "metadata": {},
   "outputs": [
    {
     "name": "stdout",
     "output_type": "stream",
     "text": [
      "5169.0\n"
     ]
    }
   ],
   "source": [
    "#Wiener index for the ligand\n",
    "wmol = wiener_index(mol)\n",
    "print(wmol)\n"
   ]
  },
  {
   "cell_type": "code",
   "execution_count": 30,
   "metadata": {},
   "outputs": [
    {
     "data": {
      "text/plain": [
       "552.2116399099099"
      ]
     },
     "execution_count": 30,
     "metadata": {},
     "output_type": "execute_result"
    }
   ],
   "source": [
    "#Molecular weight of the ligand https://www.rdkit.org/docs/source/rdkit.Chem.rdMolDescriptors.html\n",
    "MW = Chem.rdMolDescriptors.CalcExactMolWt(mol)\n",
    "MW"
   ]
  },
  {
   "cell_type": "code",
   "execution_count": 31,
   "metadata": {},
   "outputs": [],
   "source": [
    "#Calculate for all the ligands\n",
    "indices = pd.read_csv(\"../dataset/index_clean\", delimiter=',',header=None, comment='#')"
   ]
  },
  {
   "cell_type": "code",
   "execution_count": 32,
   "metadata": {},
   "outputs": [
    {
     "data": {
      "text/plain": [
       "array(['2tpi', '4tln', '1rnt', ..., '6k04', '6ic2', '6gxe'], dtype=object)"
      ]
     },
     "execution_count": 32,
     "metadata": {},
     "output_type": "execute_result"
    }
   ],
   "source": [
    "indices[0].values"
   ]
  },
  {
   "cell_type": "code",
   "execution_count": 33,
   "metadata": {},
   "outputs": [],
   "source": [
    "def wiener_index(m):\n",
    "    res = 0\n",
    "    amat = Chem.GetDistanceMatrix(m)\n",
    "    for i in range(m.GetNumAtoms()):\n",
    "        for j in range(i+1,m.GetNumAtoms()):\n",
    "            res += amat[i][j]\n",
    "    return res"
   ]
  },
  {
   "cell_type": "code",
   "execution_count": null,
   "metadata": {},
   "outputs": [],
   "source": [
    "arr = np.zeros((len(indices[0]), 6))\n",
    "for j,i in enumerate(indices[0]):\n",
    "    #load sdf file\n",
    "    #ignore errors\n",
    "    try:\n",
    "        mol = Chem.rdmolfiles.SDMolSupplier(f\"../dataset/refined-set/{i}/{i}_ligand.sdf\")[0]\n",
    "        MWe = Chem.rdMolDescriptors.CalcExactMolWt(mol)\n",
    "        L_A = Lipinski.NumHAcceptors(mol)\n",
    "        L_D = Lipinski.NumHDonors(mol)\n",
    "        LogP = Crippen.MolLogP(mol) \n",
    "        MR = Crippen.MolMR(mol)\n",
    "        wmol = wiener_index(mol)\n",
    "\n",
    "    except:\n",
    "        mol = Chem.rdmolfiles.MolFromMol2File(f\"../dataset/refined-set/{i}/{i}_ligand.mol2\")  \n",
    "        print(\"mol2\")      \n",
    "        MWe = Chem.rdMolDescriptors.CalcExactMolWt(mol)\n",
    "        L_A = Lipinski.NumHAcceptors(mol)\n",
    "        L_D = Lipinski.NumHDonors(mol)\n",
    "        LogP = Crippen.MolLogP(mol) \n",
    "        MR = Crippen.MolMR(mol)\n",
    "        wmol = wiener_index(mol)\n",
    "    arr[j] = [MWe, L_A, L_D, LogP, MR, wmol]\n",
    "  \n",
    "    "
   ]
  },
  {
   "cell_type": "code",
   "execution_count": 14,
   "metadata": {},
   "outputs": [
    {
     "data": {
      "text/plain": [
       "array([[ 2.31170319e+02,  2.00000000e+00,  3.00000000e+00,\n",
       "        -1.31600000e-01,  6.05356000e+01,  4.61000000e+02],\n",
       "       [ 1.47112804e+02,  2.00000000e+00,  3.00000000e+00,\n",
       "        -8.51600000e-01,  3.60603000e+01,  1.30000000e+02],\n",
       "       [ 3.63057999e+02,  1.00000000e+01,  6.00000000e+00,\n",
       "        -2.56970000e+00,  7.64808000e+01,  1.23000000e+03],\n",
       "       ...,\n",
       "       [ 4.04151622e+02,  6.00000000e+00,  1.00000000e+00,\n",
       "         4.72902000e+00,  1.14434700e+02,  2.13400000e+03],\n",
       "       [ 4.36991713e+02,  8.00000000e+00,  5.00000000e+00,\n",
       "         4.24100000e-01,  8.99438000e+01,  1.70100000e+03],\n",
       "       [ 3.07062677e+02,  4.00000000e+00,  4.00000000e+00,\n",
       "         1.68360000e+00,  7.85634000e+01,  1.08800000e+03]])"
      ]
     },
     "execution_count": 14,
     "metadata": {},
     "output_type": "execute_result"
    }
   ],
   "source": [
    "arr"
   ]
  },
  {
   "cell_type": "code",
   "execution_count": 15,
   "metadata": {},
   "outputs": [
    {
     "data": {
      "text/plain": [
       "(5316, 3)"
      ]
     },
     "execution_count": 15,
     "metadata": {},
     "output_type": "execute_result"
    }
   ],
   "source": [
    "indices.shape"
   ]
  },
  {
   "cell_type": "code",
   "execution_count": 16,
   "metadata": {},
   "outputs": [],
   "source": [
    "df = pd.DataFrame(arr, columns=['Molecular weight', 'Acceptors', 'Donors', 'LogP', 'Molecular Refractivity', 'Wiener index'])"
   ]
  },
  {
   "cell_type": "code",
   "execution_count": 17,
   "metadata": {},
   "outputs": [],
   "source": [
    "df['Ids'] = indices[0]"
   ]
  },
  {
   "cell_type": "code",
   "execution_count": 18,
   "metadata": {},
   "outputs": [
    {
     "data": {
      "text/plain": [
       "Molecular weight\n",
       "427.029415    36\n",
       "547.235222    23\n",
       "506.995745    20\n",
       "441.008679    20\n",
       "385.128865    17\n",
       "              ..\n",
       "269.124431     1\n",
       "504.159139     1\n",
       "135.079647     1\n",
       "155.021858     1\n",
       "307.062677     1\n",
       "Name: count, Length: 3878, dtype: int64"
      ]
     },
     "execution_count": 18,
     "metadata": {},
     "output_type": "execute_result"
    }
   ],
   "source": [
    "df['Molecular weight'].value_counts()"
   ]
  },
  {
   "cell_type": "code",
   "execution_count": 19,
   "metadata": {},
   "outputs": [
    {
     "data": {
      "text/html": [
       "<div>\n",
       "<style scoped>\n",
       "    .dataframe tbody tr th:only-of-type {\n",
       "        vertical-align: middle;\n",
       "    }\n",
       "\n",
       "    .dataframe tbody tr th {\n",
       "        vertical-align: top;\n",
       "    }\n",
       "\n",
       "    .dataframe thead th {\n",
       "        text-align: right;\n",
       "    }\n",
       "</style>\n",
       "<table border=\"1\" class=\"dataframe\">\n",
       "  <thead>\n",
       "    <tr style=\"text-align: right;\">\n",
       "      <th></th>\n",
       "      <th>Molecular weight</th>\n",
       "      <th>Acceptors</th>\n",
       "      <th>Donors</th>\n",
       "      <th>LogP</th>\n",
       "      <th>Molecular Refractivity</th>\n",
       "      <th>Wiener index</th>\n",
       "      <th>Ids</th>\n",
       "    </tr>\n",
       "  </thead>\n",
       "  <tbody>\n",
       "    <tr>\n",
       "      <th>0</th>\n",
       "      <td>231.170319</td>\n",
       "      <td>2.0</td>\n",
       "      <td>3.0</td>\n",
       "      <td>-0.13160</td>\n",
       "      <td>60.5356</td>\n",
       "      <td>461.0</td>\n",
       "      <td>2tpi</td>\n",
       "    </tr>\n",
       "    <tr>\n",
       "      <th>1</th>\n",
       "      <td>147.112804</td>\n",
       "      <td>2.0</td>\n",
       "      <td>3.0</td>\n",
       "      <td>-0.85160</td>\n",
       "      <td>36.0603</td>\n",
       "      <td>130.0</td>\n",
       "      <td>4tln</td>\n",
       "    </tr>\n",
       "    <tr>\n",
       "      <th>2</th>\n",
       "      <td>363.057999</td>\n",
       "      <td>10.0</td>\n",
       "      <td>6.0</td>\n",
       "      <td>-2.56970</td>\n",
       "      <td>76.4808</td>\n",
       "      <td>1230.0</td>\n",
       "      <td>1rnt</td>\n",
       "    </tr>\n",
       "    <tr>\n",
       "      <th>3</th>\n",
       "      <td>182.081170</td>\n",
       "      <td>2.0</td>\n",
       "      <td>3.0</td>\n",
       "      <td>-0.37020</td>\n",
       "      <td>46.1227</td>\n",
       "      <td>268.0</td>\n",
       "      <td>4ts1</td>\n",
       "    </tr>\n",
       "    <tr>\n",
       "      <th>4</th>\n",
       "      <td>519.213437</td>\n",
       "      <td>5.0</td>\n",
       "      <td>5.0</td>\n",
       "      <td>3.26060</td>\n",
       "      <td>135.1412</td>\n",
       "      <td>4249.0</td>\n",
       "      <td>4tmn</td>\n",
       "    </tr>\n",
       "    <tr>\n",
       "      <th>...</th>\n",
       "      <td>...</td>\n",
       "      <td>...</td>\n",
       "      <td>...</td>\n",
       "      <td>...</td>\n",
       "      <td>...</td>\n",
       "      <td>...</td>\n",
       "      <td>...</td>\n",
       "    </tr>\n",
       "    <tr>\n",
       "      <th>5311</th>\n",
       "      <td>253.050394</td>\n",
       "      <td>3.0</td>\n",
       "      <td>2.0</td>\n",
       "      <td>1.21620</td>\n",
       "      <td>64.9371</td>\n",
       "      <td>478.0</td>\n",
       "      <td>6d1i</td>\n",
       "    </tr>\n",
       "    <tr>\n",
       "      <th>5312</th>\n",
       "      <td>212.025563</td>\n",
       "      <td>3.0</td>\n",
       "      <td>1.0</td>\n",
       "      <td>0.53470</td>\n",
       "      <td>50.5625</td>\n",
       "      <td>260.0</td>\n",
       "      <td>6uh0</td>\n",
       "    </tr>\n",
       "    <tr>\n",
       "      <th>5313</th>\n",
       "      <td>404.151622</td>\n",
       "      <td>6.0</td>\n",
       "      <td>1.0</td>\n",
       "      <td>4.72902</td>\n",
       "      <td>114.4347</td>\n",
       "      <td>2134.0</td>\n",
       "      <td>6k04</td>\n",
       "    </tr>\n",
       "    <tr>\n",
       "      <th>5314</th>\n",
       "      <td>436.991713</td>\n",
       "      <td>8.0</td>\n",
       "      <td>5.0</td>\n",
       "      <td>0.42410</td>\n",
       "      <td>89.9438</td>\n",
       "      <td>1701.0</td>\n",
       "      <td>6ic2</td>\n",
       "    </tr>\n",
       "    <tr>\n",
       "      <th>5315</th>\n",
       "      <td>307.062677</td>\n",
       "      <td>4.0</td>\n",
       "      <td>4.0</td>\n",
       "      <td>1.68360</td>\n",
       "      <td>78.5634</td>\n",
       "      <td>1088.0</td>\n",
       "      <td>6gxe</td>\n",
       "    </tr>\n",
       "  </tbody>\n",
       "</table>\n",
       "<p>5316 rows × 7 columns</p>\n",
       "</div>"
      ],
      "text/plain": [
       "      Molecular weight  Acceptors  Donors     LogP  Molecular Refractivity  \\\n",
       "0           231.170319        2.0     3.0 -0.13160                 60.5356   \n",
       "1           147.112804        2.0     3.0 -0.85160                 36.0603   \n",
       "2           363.057999       10.0     6.0 -2.56970                 76.4808   \n",
       "3           182.081170        2.0     3.0 -0.37020                 46.1227   \n",
       "4           519.213437        5.0     5.0  3.26060                135.1412   \n",
       "...                ...        ...     ...      ...                     ...   \n",
       "5311        253.050394        3.0     2.0  1.21620                 64.9371   \n",
       "5312        212.025563        3.0     1.0  0.53470                 50.5625   \n",
       "5313        404.151622        6.0     1.0  4.72902                114.4347   \n",
       "5314        436.991713        8.0     5.0  0.42410                 89.9438   \n",
       "5315        307.062677        4.0     4.0  1.68360                 78.5634   \n",
       "\n",
       "      Wiener index   Ids  \n",
       "0            461.0  2tpi  \n",
       "1            130.0  4tln  \n",
       "2           1230.0  1rnt  \n",
       "3            268.0  4ts1  \n",
       "4           4249.0  4tmn  \n",
       "...            ...   ...  \n",
       "5311         478.0  6d1i  \n",
       "5312         260.0  6uh0  \n",
       "5313        2134.0  6k04  \n",
       "5314        1701.0  6ic2  \n",
       "5315        1088.0  6gxe  \n",
       "\n",
       "[5316 rows x 7 columns]"
      ]
     },
     "execution_count": 19,
     "metadata": {},
     "output_type": "execute_result"
    }
   ],
   "source": [
    "df"
   ]
  },
  {
   "cell_type": "code",
   "execution_count": 35,
   "metadata": {},
   "outputs": [],
   "source": [
    "import MDAnalysis as mda"
   ]
  },
  {
   "cell_type": "code",
   "execution_count": 42,
   "metadata": {},
   "outputs": [],
   "source": [
    "protein = mda.Universe(f\"../dataset/refined-set/1a1e/1a1e_protein.pdb\")"
   ]
  },
  {
   "cell_type": "code",
   "execution_count": 43,
   "metadata": {},
   "outputs": [],
   "source": [
    "ligand = mda.Universe(f\"../dataset/refined-set/1a1e/1a1e_ligand.mol2\")"
   ]
  },
  {
   "cell_type": "code",
   "execution_count": 48,
   "metadata": {},
   "outputs": [
    {
     "data": {
      "text/plain": [
       "<Atom 1: C of type C.2 of resname ACE, resid 1 and segid SYSTEM>"
      ]
     },
     "execution_count": 48,
     "metadata": {},
     "output_type": "execute_result"
    }
   ],
   "source": [
    "ligand.atoms[0]"
   ]
  },
  {
   "cell_type": "code",
   "execution_count": 44,
   "metadata": {},
   "outputs": [],
   "source": [
    "complex = mda.Merge(protein.atoms, ligand.atoms)"
   ]
  },
  {
   "cell_type": "code",
   "execution_count": 55,
   "metadata": {},
   "outputs": [],
   "source": [
    "ligname = ligand.residues[0].resname"
   ]
  },
  {
   "cell_type": "code",
   "execution_count": 56,
   "metadata": {},
   "outputs": [],
   "source": [
    "pocket = complex.select_atoms(f\"protein and around 6 resname {ligname}\")"
   ]
  },
  {
   "cell_type": "code",
   "execution_count": null,
   "metadata": {},
   "outputs": [],
   "source": [
    "#Hydrogen bond donors an acceptors in protein https://www.imgt.org/IMGTeducation/Aide-memoire/_UK/aminoacids/charge/#:~:text=3%20amino%20acids%20(arginine%2C%20lysine,atoms%20in%20their%20side%20chain"
   ]
  },
  {
   "cell_type": "code",
   "execution_count": 58,
   "metadata": {},
   "outputs": [],
   "source": [
    "#Select the hydrogen bond donors of arginine:\n",
    "\n",
    "ARG_hbond = pocket.select_atoms(\"name NH1 NH2 NE\")"
   ]
  },
  {
   "cell_type": "code",
   "execution_count": 62,
   "metadata": {},
   "outputs": [
    {
     "data": {
      "text/plain": [
       "15"
      ]
     },
     "execution_count": 62,
     "metadata": {},
     "output_type": "execute_result"
    }
   ],
   "source": [
    "#Select the hydrongen bond donors of the aminoacid groups as in the paper:\n",
    "\n",
    "PD_amide = len(pocket.select_atoms(\"name N\"))\n"
   ]
  },
  {
   "cell_type": "code",
   "execution_count": 67,
   "metadata": {},
   "outputs": [],
   "source": [
    "#donors\n",
    "PD_positive = len(pocket.select_atoms(\"name NZ NE NH1 NH2 ND1 NE2\"))        #Lysine, arginine and histidine\n",
    "PD_neutral = len(pocket.select_atoms(\"name ND2 NE2\"))     #asparagine,glutamine\n",
    "PD_heteroatom = len(pocket.select_atoms(\"name NE1\"))    #Tryptophan\n",
    "PD_OH = len(pocket.select_atoms(\"name OG OG1 OH\"))    #Serine, Threonine, Tyrosine"
   ]
  },
  {
   "cell_type": "code",
   "execution_count": 69,
   "metadata": {},
   "outputs": [],
   "source": [
    "#acceptors\n",
    "PA_amide = len(pocket.select_atoms(\"name O\"))\n",
    "PA_negative = len(pocket.select_atoms(\"name OD1 OD2 OE1 OE2\"))   #Aspartate, Glutamate\n",
    "PA_neutral = len(pocket.select_atoms(\"name OE1 OG2 OH OD1\"))       #Asparagine, Glutamine, tyrosine, serine\n",
    "PA_aromatic = len(pocket.select_atoms(\"name OH ND1 NE2\"))   #Tyrosine, Histidine"
   ]
  },
  {
   "cell_type": "code",
   "execution_count": null,
   "metadata": {},
   "outputs": [],
   "source": [
    "arr = np.zeros((len(indices[0]), 9))\n",
    "for j,i in enumerate(indices[0]):\n",
    "    protein = mda.Universe(f\"../dataset/refined-set/{i}/{i}_protein.pdb\")\n",
    "    ligand = mda.Universe(f\"../dataset/refined-set/{i}/{i}_ligand.mol2\")\n",
    "    complex = mda.Merge(protein.atoms, ligand.atoms)\n",
    "    ligname = ligand.residues[0].resname\n",
    "    pocket = complex.select_atoms(f\"protein and around 6 resname {ligname}\")\n",
    "    PD_amide = len(pocket.select_atoms(\"name N\"))\n",
    "    PD_positive = len(pocket.select_atoms(\"name NZ NE NH1 NH2 ND1 NE2\"))        #Lysine, arginine and histidine\n",
    "    PD_neutral = len(pocket.select_atoms(\"name ND2 NE2\"))     #asparagine,glutamine\n",
    "    PD_heteroatom = len(pocket.select_atoms(\"name NE1\"))    #Tryptophan\n",
    "    PD_OH = len(pocket.select_atoms(\"name OG OG1 OH\"))    #Serine, Threonine, Tyrosine\n",
    "    PA_amide = len(pocket.select_atoms(\"name O\"))\n",
    "    PA_negative = len(pocket.select_atoms(\"name OD1 OD2 OE1 OE2\"))   #Aspartate, Glutamate\n",
    "    PA_neutral = len(pocket.select_atoms(\"name OE1 OG2 OH OD1\"))       #Asparagine, Glutamine, tyrosine, serine\n",
    "    PA_aromatic = len(pocket.select_atoms(\"name OH ND1 NE2\"))   #Tyrosine, Histidine\n",
    "    P_logp = []\n",
    "    P_MR = []\n",
    "    arr[j] = [PD_amide, PD_positive, PD_neutral, PD_heteroatom, PD_OH, PA_amide, PA_negative, PA_neutral, PA_aromatic]\n",
    "    \n"
   ]
  },
  {
   "cell_type": "code",
   "execution_count": 71,
   "metadata": {},
   "outputs": [],
   "source": [
    "#Construct a table with the logP and MR of every amino acid\n",
    "amino_acid_names = ['ALA', 'ARG', 'ASN', 'ASP', 'CYS', 'GLN', 'GLU', 'GLY', 'HIS', 'ILE', 'LEU', 'LYS', 'MET', 'PHE', 'PRO', 'SER', 'THR', 'TRP', 'TYR', 'VAL'] # resname 3letter\n",
    "\n",
    "#List of amino acid SMILES\n",
    "SMILES_ASP = \"C([C@@H](C(=O)O)N)C(=O)O\" #aspartate #https://pubchem.ncbi.nlm.nih.gov/compound/Aspartic-Acid\n",
    "aspartic_mol = Chem.MolFromSmiles(SMILES_ASP) #Mol object from SMILES"
   ]
  },
  {
   "cell_type": "code",
   "execution_count": 72,
   "metadata": {},
   "outputs": [
    {
     "data": {
      "image/png": "[encoded data removed]",
      "text/plain": [
       "<rdkit.Chem.rdchem.Mol at 0x7f5c30428b30>"
      ]
     },
     "execution_count": 72,
     "metadata": {},
     "output_type": "execute_result"
    }
   ],
   "source": [
    "aspartic_mol # You can use this object to calculate the logP and MR of the amino acid"
   ]
  },
  {
   "cell_type": "code",
   "execution_count": 74,
   "metadata": {},
   "outputs": [
    {
     "data": {
      "text/plain": [
       "{'ASP': -1.1269999999999998}"
      ]
     },
     "execution_count": 74,
     "metadata": {},
     "output_type": "execute_result"
    }
   ],
   "source": [
    "#Look up the smiles for every amino acid and calculate the logP and MR  and make a dictionary\n",
    "#Example\n",
    "log_P_dict = {}\n",
    "MR_dict = {}\n",
    "logP_aa = Crippen.MolLogP(aspartic_mol)\n",
    "\n",
    "log_P_dict['ASP'] = logP_aa\n",
    "\n",
    "log_P_dict"
   ]
  },
  {
   "cell_type": "code",
   "execution_count": null,
   "metadata": {},
   "outputs": [],
   "source": [
    "#Make a dictionary of the amino acids with their smiles\n",
    "smiles_dict = {\n",
    "    \"ASP\": \"C([C@@H](C(=O)O)N)C(=O)O\",\n",
    "    \"GLU\": \"placeholder\",\n",
    "    \"LYS\": \"placeholder\",\n",
    "    \"ARG\": \"placeholder\",\n",
    "    \"HIS\": \"placeholder\",\n",
    "    \"SER\": \"placeholder\",\n",
    "    \"THR\": \"placeholder\",\n",
    "    \"ASN\": \"placeholder\",\n",
    "    \"GLN\": \"placeholder\",\n",
    "    \"CYS\": \"placeholder\",\n",
    "    \"MET\": \"placeholder\",\n",
    "    \"TYR\": \"placeholder\",\n",
    "    \"TRP\": \"placeholder\",\n",
    "    \"PHE\": \"placeholder\",\n",
    "    \"GLY\": \"placeholder\",\n",
    "    \"PRO\": \"placeholder\",\n",
    "    \"ALA\": \"placeholder\",\n",
    "    \"VAL\": \"placeholder\",\n",
    "    \"LEU\": \"placeholder\",\n",
    "    \"ILE\": \"placeholder\"\n",
    "}"
   ]
  },
  {
   "cell_type": "code",
   "execution_count": null,
   "metadata": {},
   "outputs": [],
   "source": [
    "#Iterate over your dictionary https://www.geeksforgeeks.org/iterate-over-a-dictionary-in-python/ and calculate the logP and MR of every amino acid and store it in a dictionary"
   ]
  },
  {
   "cell_type": "markdown",
   "metadata": {},
   "source": []
  }
 ],
 "metadata": {
  "kernelspec": {
   "display_name": "Python 3 (ipykernel)",
   "language": "python",
   "name": "python3"
  },
  "language_info": {
   "codemirror_mode": {
    "name": "ipython",
    "version": 3
   },
   "file_extension": ".py",
   "mimetype": "text/x-python",
   "name": "python",
   "nbconvert_exporter": "python",
   "pygments_lexer": "ipython3",
   "version": "3.10.12"
  }
 },
 "nbformat": 4,
 "nbformat_minor": 2
}
