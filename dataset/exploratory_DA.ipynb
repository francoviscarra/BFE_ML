{
 "cells": [
  {
   "cell_type": "code",
   "execution_count": 1,
   "metadata": {},
   "outputs": [],
   "source": [
    "!awk '{print $1\",\" $4}' refined-set/index/INDEX_refined_set.2020 > index_clean"
   ]
  },
  {
   "cell_type": "code",
   "execution_count": 2,
   "metadata": {},
   "outputs": [
    {
     "name": "stdout",
     "output_type": "stream",
     "text": [
      "#,\n",
      "#,protein-ligand\n",
      "#,complexes\n",
      "#,July\n",
      "#,resolution,\n",
      "#,\n",
      "2tpi,Kd=49uM\n",
      "4tln,Ki=190uM\n",
      "1rnt,Kd=6.5uM\n",
      "4ts1,Kd=11.6uM\n"
     ]
    }
   ],
   "source": [
    "!head index_clean "
   ]
  },
  {
   "cell_type": "code",
   "execution_count": 3,
   "metadata": {},
   "outputs": [],
   "source": [
    "#replace the character '=' with ',' in the file index_clean using sed\n",
    "!sed -i 's/=/,/g' index_clean"
   ]
  },
  {
   "cell_type": "code",
   "execution_count": 4,
   "metadata": {},
   "outputs": [
    {
     "name": "stdout",
     "output_type": "stream",
     "text": [
      "#,\n",
      "#,protein-ligand\n",
      "#,complexes\n",
      "#,July\n",
      "#,resolution,\n",
      "#,\n",
      "2tpi,Kd,49uM\n",
      "4tln,Ki,190uM\n",
      "1rnt,Kd,6.5uM\n",
      "4ts1,Kd,11.6uM\n"
     ]
    }
   ],
   "source": [
    "!head index_clean"
   ]
  },
  {
   "cell_type": "code",
   "execution_count": 5,
   "metadata": {},
   "outputs": [],
   "source": [
    "import pandas as pd\n",
    "import numpy as np\n",
    "import matplotlib.pyplot as plt"
   ]
  },
  {
   "cell_type": "code",
   "execution_count": 6,
   "metadata": {},
   "outputs": [],
   "source": [
    "df = pd.read_csv('index_clean', delimiter=',', comment='#', header=None)"
   ]
  },
  {
   "cell_type": "code",
   "execution_count": 7,
   "metadata": {},
   "outputs": [
    {
     "data": {
      "text/html": [
       "<div>\n",
       "<style scoped>\n",
       "    .dataframe tbody tr th:only-of-type {\n",
       "        vertical-align: middle;\n",
       "    }\n",
       "\n",
       "    .dataframe tbody tr th {\n",
       "        vertical-align: top;\n",
       "    }\n",
       "\n",
       "    .dataframe thead th {\n",
       "        text-align: right;\n",
       "    }\n",
       "</style>\n",
       "<table border=\"1\" class=\"dataframe\">\n",
       "  <thead>\n",
       "    <tr style=\"text-align: right;\">\n",
       "      <th></th>\n",
       "      <th>0</th>\n",
       "      <th>1</th>\n",
       "      <th>2</th>\n",
       "    </tr>\n",
       "  </thead>\n",
       "  <tbody>\n",
       "    <tr>\n",
       "      <th>0</th>\n",
       "      <td>2tpi</td>\n",
       "      <td>Kd</td>\n",
       "      <td>49uM</td>\n",
       "    </tr>\n",
       "    <tr>\n",
       "      <th>1</th>\n",
       "      <td>4tln</td>\n",
       "      <td>Ki</td>\n",
       "      <td>190uM</td>\n",
       "    </tr>\n",
       "    <tr>\n",
       "      <th>2</th>\n",
       "      <td>1rnt</td>\n",
       "      <td>Kd</td>\n",
       "      <td>6.5uM</td>\n",
       "    </tr>\n",
       "    <tr>\n",
       "      <th>3</th>\n",
       "      <td>4ts1</td>\n",
       "      <td>Kd</td>\n",
       "      <td>11.6uM</td>\n",
       "    </tr>\n",
       "    <tr>\n",
       "      <th>4</th>\n",
       "      <td>4tmn</td>\n",
       "      <td>Ki</td>\n",
       "      <td>0.068nM</td>\n",
       "    </tr>\n",
       "    <tr>\n",
       "      <th>...</th>\n",
       "      <td>...</td>\n",
       "      <td>...</td>\n",
       "      <td>...</td>\n",
       "    </tr>\n",
       "    <tr>\n",
       "      <th>5311</th>\n",
       "      <td>6d1i</td>\n",
       "      <td>Ki</td>\n",
       "      <td>81uM</td>\n",
       "    </tr>\n",
       "    <tr>\n",
       "      <th>5312</th>\n",
       "      <td>6uh0</td>\n",
       "      <td>Ki</td>\n",
       "      <td>853.1nM</td>\n",
       "    </tr>\n",
       "    <tr>\n",
       "      <th>5313</th>\n",
       "      <td>6k04</td>\n",
       "      <td>Ki</td>\n",
       "      <td>9.1nM</td>\n",
       "    </tr>\n",
       "    <tr>\n",
       "      <th>5314</th>\n",
       "      <td>6ic2</td>\n",
       "      <td>Ki</td>\n",
       "      <td>917.4nM</td>\n",
       "    </tr>\n",
       "    <tr>\n",
       "      <th>5315</th>\n",
       "      <td>6gxe</td>\n",
       "      <td>Ki</td>\n",
       "      <td>9nM</td>\n",
       "    </tr>\n",
       "  </tbody>\n",
       "</table>\n",
       "<p>5316 rows × 3 columns</p>\n",
       "</div>"
      ],
      "text/plain": [
       "         0   1        2\n",
       "0     2tpi  Kd     49uM\n",
       "1     4tln  Ki    190uM\n",
       "2     1rnt  Kd    6.5uM\n",
       "3     4ts1  Kd   11.6uM\n",
       "4     4tmn  Ki  0.068nM\n",
       "...    ...  ..      ...\n",
       "5311  6d1i  Ki     81uM\n",
       "5312  6uh0  Ki  853.1nM\n",
       "5313  6k04  Ki    9.1nM\n",
       "5314  6ic2  Ki  917.4nM\n",
       "5315  6gxe  Ki      9nM\n",
       "\n",
       "[5316 rows x 3 columns]"
      ]
     },
     "execution_count": 7,
     "metadata": {},
     "output_type": "execute_result"
    }
   ],
   "source": [
    "df"
   ]
  },
  {
   "cell_type": "code",
   "execution_count": 8,
   "metadata": {},
   "outputs": [
    {
     "data": {
      "text/plain": [
       "1\n",
       "Kd     2783\n",
       "Ki     2531\n",
       "Ki<       2\n",
       "Name: count, dtype: int64"
      ]
     },
     "execution_count": 8,
     "metadata": {},
     "output_type": "execute_result"
    }
   ],
   "source": [
    "df[1].value_counts()"
   ]
  },
  {
   "cell_type": "code",
   "execution_count": 9,
   "metadata": {},
   "outputs": [
    {
     "data": {
      "text/plain": [
       "0          49uM\n",
       "1         190uM\n",
       "2         6.5uM\n",
       "3        11.6uM\n",
       "4       0.068nM\n",
       "         ...   \n",
       "5311       81uM\n",
       "5312    853.1nM\n",
       "5313      9.1nM\n",
       "5314    917.4nM\n",
       "5315        9nM\n",
       "Name: 2, Length: 5316, dtype: object"
      ]
     },
     "execution_count": 9,
     "metadata": {},
     "output_type": "execute_result"
    }
   ],
   "source": [
    "df[2]"
   ]
  },
  {
   "cell_type": "code",
   "execution_count": 10,
   "metadata": {},
   "outputs": [],
   "source": [
    "#separate the last two characters from each of column 1 values\n",
    "df['unit'] = df[2].str[-2:]"
   ]
  },
  {
   "cell_type": "code",
   "execution_count": 11,
   "metadata": {},
   "outputs": [],
   "source": [
    "#remove the last two characters from each of column 1 values\n",
    "df[2] = df[2].str[:-2]"
   ]
  },
  {
   "cell_type": "code",
   "execution_count": 12,
   "metadata": {},
   "outputs": [
    {
     "data": {
      "text/html": [
       "<div>\n",
       "<style scoped>\n",
       "    .dataframe tbody tr th:only-of-type {\n",
       "        vertical-align: middle;\n",
       "    }\n",
       "\n",
       "    .dataframe tbody tr th {\n",
       "        vertical-align: top;\n",
       "    }\n",
       "\n",
       "    .dataframe thead th {\n",
       "        text-align: right;\n",
       "    }\n",
       "</style>\n",
       "<table border=\"1\" class=\"dataframe\">\n",
       "  <thead>\n",
       "    <tr style=\"text-align: right;\">\n",
       "      <th></th>\n",
       "      <th>0</th>\n",
       "      <th>1</th>\n",
       "      <th>2</th>\n",
       "      <th>unit</th>\n",
       "    </tr>\n",
       "  </thead>\n",
       "  <tbody>\n",
       "    <tr>\n",
       "      <th>0</th>\n",
       "      <td>2tpi</td>\n",
       "      <td>Kd</td>\n",
       "      <td>49</td>\n",
       "      <td>uM</td>\n",
       "    </tr>\n",
       "    <tr>\n",
       "      <th>1</th>\n",
       "      <td>4tln</td>\n",
       "      <td>Ki</td>\n",
       "      <td>190</td>\n",
       "      <td>uM</td>\n",
       "    </tr>\n",
       "    <tr>\n",
       "      <th>2</th>\n",
       "      <td>1rnt</td>\n",
       "      <td>Kd</td>\n",
       "      <td>6.5</td>\n",
       "      <td>uM</td>\n",
       "    </tr>\n",
       "    <tr>\n",
       "      <th>3</th>\n",
       "      <td>4ts1</td>\n",
       "      <td>Kd</td>\n",
       "      <td>11.6</td>\n",
       "      <td>uM</td>\n",
       "    </tr>\n",
       "    <tr>\n",
       "      <th>4</th>\n",
       "      <td>4tmn</td>\n",
       "      <td>Ki</td>\n",
       "      <td>0.068</td>\n",
       "      <td>nM</td>\n",
       "    </tr>\n",
       "    <tr>\n",
       "      <th>...</th>\n",
       "      <td>...</td>\n",
       "      <td>...</td>\n",
       "      <td>...</td>\n",
       "      <td>...</td>\n",
       "    </tr>\n",
       "    <tr>\n",
       "      <th>5311</th>\n",
       "      <td>6d1i</td>\n",
       "      <td>Ki</td>\n",
       "      <td>81</td>\n",
       "      <td>uM</td>\n",
       "    </tr>\n",
       "    <tr>\n",
       "      <th>5312</th>\n",
       "      <td>6uh0</td>\n",
       "      <td>Ki</td>\n",
       "      <td>853.1</td>\n",
       "      <td>nM</td>\n",
       "    </tr>\n",
       "    <tr>\n",
       "      <th>5313</th>\n",
       "      <td>6k04</td>\n",
       "      <td>Ki</td>\n",
       "      <td>9.1</td>\n",
       "      <td>nM</td>\n",
       "    </tr>\n",
       "    <tr>\n",
       "      <th>5314</th>\n",
       "      <td>6ic2</td>\n",
       "      <td>Ki</td>\n",
       "      <td>917.4</td>\n",
       "      <td>nM</td>\n",
       "    </tr>\n",
       "    <tr>\n",
       "      <th>5315</th>\n",
       "      <td>6gxe</td>\n",
       "      <td>Ki</td>\n",
       "      <td>9</td>\n",
       "      <td>nM</td>\n",
       "    </tr>\n",
       "  </tbody>\n",
       "</table>\n",
       "<p>5316 rows × 4 columns</p>\n",
       "</div>"
      ],
      "text/plain": [
       "         0   1      2 unit\n",
       "0     2tpi  Kd     49   uM\n",
       "1     4tln  Ki    190   uM\n",
       "2     1rnt  Kd    6.5   uM\n",
       "3     4ts1  Kd   11.6   uM\n",
       "4     4tmn  Ki  0.068   nM\n",
       "...    ...  ..    ...  ...\n",
       "5311  6d1i  Ki     81   uM\n",
       "5312  6uh0  Ki  853.1   nM\n",
       "5313  6k04  Ki    9.1   nM\n",
       "5314  6ic2  Ki  917.4   nM\n",
       "5315  6gxe  Ki      9   nM\n",
       "\n",
       "[5316 rows x 4 columns]"
      ]
     },
     "execution_count": 12,
     "metadata": {},
     "output_type": "execute_result"
    }
   ],
   "source": [
    "df"
   ]
  },
  {
   "cell_type": "code",
   "execution_count": 13,
   "metadata": {},
   "outputs": [],
   "source": [
    "#eliminate non numeric characters from column 1 values and eliminate = sign\n",
    "df[2] = df[2].str.replace(r'=', '')\n",
    "df[2] = df[2].str.replace(r'\\D', '')\n",
    "\n",
    "#convert column 1 values to numeric\n",
    "df[2] = pd.to_numeric(df[2])"
   ]
  },
  {
   "cell_type": "code",
   "execution_count": 14,
   "metadata": {},
   "outputs": [
    {
     "data": {
      "text/html": [
       "<div>\n",
       "<style scoped>\n",
       "    .dataframe tbody tr th:only-of-type {\n",
       "        vertical-align: middle;\n",
       "    }\n",
       "\n",
       "    .dataframe tbody tr th {\n",
       "        vertical-align: top;\n",
       "    }\n",
       "\n",
       "    .dataframe thead th {\n",
       "        text-align: right;\n",
       "    }\n",
       "</style>\n",
       "<table border=\"1\" class=\"dataframe\">\n",
       "  <thead>\n",
       "    <tr style=\"text-align: right;\">\n",
       "      <th></th>\n",
       "      <th>0</th>\n",
       "      <th>1</th>\n",
       "      <th>2</th>\n",
       "      <th>unit</th>\n",
       "    </tr>\n",
       "  </thead>\n",
       "  <tbody>\n",
       "    <tr>\n",
       "      <th>0</th>\n",
       "      <td>2tpi</td>\n",
       "      <td>Kd</td>\n",
       "      <td>49.000</td>\n",
       "      <td>uM</td>\n",
       "    </tr>\n",
       "    <tr>\n",
       "      <th>1</th>\n",
       "      <td>4tln</td>\n",
       "      <td>Ki</td>\n",
       "      <td>190.000</td>\n",
       "      <td>uM</td>\n",
       "    </tr>\n",
       "    <tr>\n",
       "      <th>2</th>\n",
       "      <td>1rnt</td>\n",
       "      <td>Kd</td>\n",
       "      <td>6.500</td>\n",
       "      <td>uM</td>\n",
       "    </tr>\n",
       "    <tr>\n",
       "      <th>3</th>\n",
       "      <td>4ts1</td>\n",
       "      <td>Kd</td>\n",
       "      <td>11.600</td>\n",
       "      <td>uM</td>\n",
       "    </tr>\n",
       "    <tr>\n",
       "      <th>4</th>\n",
       "      <td>4tmn</td>\n",
       "      <td>Ki</td>\n",
       "      <td>0.068</td>\n",
       "      <td>nM</td>\n",
       "    </tr>\n",
       "    <tr>\n",
       "      <th>...</th>\n",
       "      <td>...</td>\n",
       "      <td>...</td>\n",
       "      <td>...</td>\n",
       "      <td>...</td>\n",
       "    </tr>\n",
       "    <tr>\n",
       "      <th>5311</th>\n",
       "      <td>6d1i</td>\n",
       "      <td>Ki</td>\n",
       "      <td>81.000</td>\n",
       "      <td>uM</td>\n",
       "    </tr>\n",
       "    <tr>\n",
       "      <th>5312</th>\n",
       "      <td>6uh0</td>\n",
       "      <td>Ki</td>\n",
       "      <td>853.100</td>\n",
       "      <td>nM</td>\n",
       "    </tr>\n",
       "    <tr>\n",
       "      <th>5313</th>\n",
       "      <td>6k04</td>\n",
       "      <td>Ki</td>\n",
       "      <td>9.100</td>\n",
       "      <td>nM</td>\n",
       "    </tr>\n",
       "    <tr>\n",
       "      <th>5314</th>\n",
       "      <td>6ic2</td>\n",
       "      <td>Ki</td>\n",
       "      <td>917.400</td>\n",
       "      <td>nM</td>\n",
       "    </tr>\n",
       "    <tr>\n",
       "      <th>5315</th>\n",
       "      <td>6gxe</td>\n",
       "      <td>Ki</td>\n",
       "      <td>9.000</td>\n",
       "      <td>nM</td>\n",
       "    </tr>\n",
       "  </tbody>\n",
       "</table>\n",
       "<p>5316 rows × 4 columns</p>\n",
       "</div>"
      ],
      "text/plain": [
       "         0   1        2 unit\n",
       "0     2tpi  Kd   49.000   uM\n",
       "1     4tln  Ki  190.000   uM\n",
       "2     1rnt  Kd    6.500   uM\n",
       "3     4ts1  Kd   11.600   uM\n",
       "4     4tmn  Ki    0.068   nM\n",
       "...    ...  ..      ...  ...\n",
       "5311  6d1i  Ki   81.000   uM\n",
       "5312  6uh0  Ki  853.100   nM\n",
       "5313  6k04  Ki    9.100   nM\n",
       "5314  6ic2  Ki  917.400   nM\n",
       "5315  6gxe  Ki    9.000   nM\n",
       "\n",
       "[5316 rows x 4 columns]"
      ]
     },
     "execution_count": 14,
     "metadata": {},
     "output_type": "execute_result"
    }
   ],
   "source": [
    "df"
   ]
  },
  {
   "cell_type": "code",
   "execution_count": 15,
   "metadata": {},
   "outputs": [
    {
     "data": {
      "text/plain": [
       "unit\n",
       "uM    2672\n",
       "nM    2225\n",
       "mM     286\n",
       "pM     132\n",
       "fM       1\n",
       "Name: count, dtype: int64"
      ]
     },
     "execution_count": 15,
     "metadata": {},
     "output_type": "execute_result"
    }
   ],
   "source": [
    "df['unit'].value_counts()"
   ]
  },
  {
   "cell_type": "code",
   "execution_count": 16,
   "metadata": {},
   "outputs": [],
   "source": [
    "for value,unit in zip(df[2],df['unit']):\n",
    "    if unit == 'mM':\n",
    "        df[\"Molar\"] = df[2]/1000\n",
    "    elif unit == 'uM':\n",
    "        df[\"Molar\"] = df[2]/1000000\n",
    "    elif unit == 'nM':\n",
    "        df[\"Molar\"] = df[2]/1000000000\n",
    "    elif unit == 'pM':\n",
    "        df[\"Molar\"] = df[2]/1000000000000\n",
    "    elif unit == 'fM':\n",
    "        df[\"Molar\"] = df[2]/1000000000000000        "
   ]
  },
  {
   "cell_type": "code",
   "execution_count": 17,
   "metadata": {},
   "outputs": [
    {
     "data": {
      "text/html": [
       "<div>\n",
       "<style scoped>\n",
       "    .dataframe tbody tr th:only-of-type {\n",
       "        vertical-align: middle;\n",
       "    }\n",
       "\n",
       "    .dataframe tbody tr th {\n",
       "        vertical-align: top;\n",
       "    }\n",
       "\n",
       "    .dataframe thead th {\n",
       "        text-align: right;\n",
       "    }\n",
       "</style>\n",
       "<table border=\"1\" class=\"dataframe\">\n",
       "  <thead>\n",
       "    <tr style=\"text-align: right;\">\n",
       "      <th></th>\n",
       "      <th>0</th>\n",
       "      <th>1</th>\n",
       "      <th>2</th>\n",
       "      <th>unit</th>\n",
       "      <th>Molar</th>\n",
       "    </tr>\n",
       "  </thead>\n",
       "  <tbody>\n",
       "    <tr>\n",
       "      <th>0</th>\n",
       "      <td>2tpi</td>\n",
       "      <td>Kd</td>\n",
       "      <td>49.000</td>\n",
       "      <td>uM</td>\n",
       "      <td>4.900000e-08</td>\n",
       "    </tr>\n",
       "    <tr>\n",
       "      <th>1</th>\n",
       "      <td>4tln</td>\n",
       "      <td>Ki</td>\n",
       "      <td>190.000</td>\n",
       "      <td>uM</td>\n",
       "      <td>1.900000e-07</td>\n",
       "    </tr>\n",
       "    <tr>\n",
       "      <th>2</th>\n",
       "      <td>1rnt</td>\n",
       "      <td>Kd</td>\n",
       "      <td>6.500</td>\n",
       "      <td>uM</td>\n",
       "      <td>6.500000e-09</td>\n",
       "    </tr>\n",
       "    <tr>\n",
       "      <th>3</th>\n",
       "      <td>4ts1</td>\n",
       "      <td>Kd</td>\n",
       "      <td>11.600</td>\n",
       "      <td>uM</td>\n",
       "      <td>1.160000e-08</td>\n",
       "    </tr>\n",
       "    <tr>\n",
       "      <th>4</th>\n",
       "      <td>4tmn</td>\n",
       "      <td>Ki</td>\n",
       "      <td>0.068</td>\n",
       "      <td>nM</td>\n",
       "      <td>6.800000e-11</td>\n",
       "    </tr>\n",
       "    <tr>\n",
       "      <th>...</th>\n",
       "      <td>...</td>\n",
       "      <td>...</td>\n",
       "      <td>...</td>\n",
       "      <td>...</td>\n",
       "      <td>...</td>\n",
       "    </tr>\n",
       "    <tr>\n",
       "      <th>5311</th>\n",
       "      <td>6d1i</td>\n",
       "      <td>Ki</td>\n",
       "      <td>81.000</td>\n",
       "      <td>uM</td>\n",
       "      <td>8.100000e-08</td>\n",
       "    </tr>\n",
       "    <tr>\n",
       "      <th>5312</th>\n",
       "      <td>6uh0</td>\n",
       "      <td>Ki</td>\n",
       "      <td>853.100</td>\n",
       "      <td>nM</td>\n",
       "      <td>8.531000e-07</td>\n",
       "    </tr>\n",
       "    <tr>\n",
       "      <th>5313</th>\n",
       "      <td>6k04</td>\n",
       "      <td>Ki</td>\n",
       "      <td>9.100</td>\n",
       "      <td>nM</td>\n",
       "      <td>9.100000e-09</td>\n",
       "    </tr>\n",
       "    <tr>\n",
       "      <th>5314</th>\n",
       "      <td>6ic2</td>\n",
       "      <td>Ki</td>\n",
       "      <td>917.400</td>\n",
       "      <td>nM</td>\n",
       "      <td>9.174000e-07</td>\n",
       "    </tr>\n",
       "    <tr>\n",
       "      <th>5315</th>\n",
       "      <td>6gxe</td>\n",
       "      <td>Ki</td>\n",
       "      <td>9.000</td>\n",
       "      <td>nM</td>\n",
       "      <td>9.000000e-09</td>\n",
       "    </tr>\n",
       "  </tbody>\n",
       "</table>\n",
       "<p>5316 rows × 5 columns</p>\n",
       "</div>"
      ],
      "text/plain": [
       "         0   1        2 unit         Molar\n",
       "0     2tpi  Kd   49.000   uM  4.900000e-08\n",
       "1     4tln  Ki  190.000   uM  1.900000e-07\n",
       "2     1rnt  Kd    6.500   uM  6.500000e-09\n",
       "3     4ts1  Kd   11.600   uM  1.160000e-08\n",
       "4     4tmn  Ki    0.068   nM  6.800000e-11\n",
       "...    ...  ..      ...  ...           ...\n",
       "5311  6d1i  Ki   81.000   uM  8.100000e-08\n",
       "5312  6uh0  Ki  853.100   nM  8.531000e-07\n",
       "5313  6k04  Ki    9.100   nM  9.100000e-09\n",
       "5314  6ic2  Ki  917.400   nM  9.174000e-07\n",
       "5315  6gxe  Ki    9.000   nM  9.000000e-09\n",
       "\n",
       "[5316 rows x 5 columns]"
      ]
     },
     "execution_count": 17,
     "metadata": {},
     "output_type": "execute_result"
    }
   ],
   "source": [
    "df"
   ]
  },
  {
   "cell_type": "code",
   "execution_count": 18,
   "metadata": {},
   "outputs": [],
   "source": [
    "#calculate pK values\n",
    "df[\"pK\"] = -1 * df[\"Molar\"].apply(np.log10)"
   ]
  },
  {
   "cell_type": "code",
   "execution_count": 19,
   "metadata": {},
   "outputs": [
    {
     "data": {
      "text/html": [
       "<div>\n",
       "<style scoped>\n",
       "    .dataframe tbody tr th:only-of-type {\n",
       "        vertical-align: middle;\n",
       "    }\n",
       "\n",
       "    .dataframe tbody tr th {\n",
       "        vertical-align: top;\n",
       "    }\n",
       "\n",
       "    .dataframe thead th {\n",
       "        text-align: right;\n",
       "    }\n",
       "</style>\n",
       "<table border=\"1\" class=\"dataframe\">\n",
       "  <thead>\n",
       "    <tr style=\"text-align: right;\">\n",
       "      <th></th>\n",
       "      <th>0</th>\n",
       "      <th>1</th>\n",
       "      <th>2</th>\n",
       "      <th>unit</th>\n",
       "      <th>Molar</th>\n",
       "      <th>pK</th>\n",
       "    </tr>\n",
       "  </thead>\n",
       "  <tbody>\n",
       "    <tr>\n",
       "      <th>0</th>\n",
       "      <td>2tpi</td>\n",
       "      <td>Kd</td>\n",
       "      <td>49.000</td>\n",
       "      <td>uM</td>\n",
       "      <td>4.900000e-08</td>\n",
       "      <td>7.309804</td>\n",
       "    </tr>\n",
       "    <tr>\n",
       "      <th>1</th>\n",
       "      <td>4tln</td>\n",
       "      <td>Ki</td>\n",
       "      <td>190.000</td>\n",
       "      <td>uM</td>\n",
       "      <td>1.900000e-07</td>\n",
       "      <td>6.721246</td>\n",
       "    </tr>\n",
       "    <tr>\n",
       "      <th>2</th>\n",
       "      <td>1rnt</td>\n",
       "      <td>Kd</td>\n",
       "      <td>6.500</td>\n",
       "      <td>uM</td>\n",
       "      <td>6.500000e-09</td>\n",
       "      <td>8.187087</td>\n",
       "    </tr>\n",
       "    <tr>\n",
       "      <th>3</th>\n",
       "      <td>4ts1</td>\n",
       "      <td>Kd</td>\n",
       "      <td>11.600</td>\n",
       "      <td>uM</td>\n",
       "      <td>1.160000e-08</td>\n",
       "      <td>7.935542</td>\n",
       "    </tr>\n",
       "    <tr>\n",
       "      <th>4</th>\n",
       "      <td>4tmn</td>\n",
       "      <td>Ki</td>\n",
       "      <td>0.068</td>\n",
       "      <td>nM</td>\n",
       "      <td>6.800000e-11</td>\n",
       "      <td>10.167491</td>\n",
       "    </tr>\n",
       "    <tr>\n",
       "      <th>...</th>\n",
       "      <td>...</td>\n",
       "      <td>...</td>\n",
       "      <td>...</td>\n",
       "      <td>...</td>\n",
       "      <td>...</td>\n",
       "      <td>...</td>\n",
       "    </tr>\n",
       "    <tr>\n",
       "      <th>5311</th>\n",
       "      <td>6d1i</td>\n",
       "      <td>Ki</td>\n",
       "      <td>81.000</td>\n",
       "      <td>uM</td>\n",
       "      <td>8.100000e-08</td>\n",
       "      <td>7.091515</td>\n",
       "    </tr>\n",
       "    <tr>\n",
       "      <th>5312</th>\n",
       "      <td>6uh0</td>\n",
       "      <td>Ki</td>\n",
       "      <td>853.100</td>\n",
       "      <td>nM</td>\n",
       "      <td>8.531000e-07</td>\n",
       "      <td>6.069000</td>\n",
       "    </tr>\n",
       "    <tr>\n",
       "      <th>5313</th>\n",
       "      <td>6k04</td>\n",
       "      <td>Ki</td>\n",
       "      <td>9.100</td>\n",
       "      <td>nM</td>\n",
       "      <td>9.100000e-09</td>\n",
       "      <td>8.040959</td>\n",
       "    </tr>\n",
       "    <tr>\n",
       "      <th>5314</th>\n",
       "      <td>6ic2</td>\n",
       "      <td>Ki</td>\n",
       "      <td>917.400</td>\n",
       "      <td>nM</td>\n",
       "      <td>9.174000e-07</td>\n",
       "      <td>6.037441</td>\n",
       "    </tr>\n",
       "    <tr>\n",
       "      <th>5315</th>\n",
       "      <td>6gxe</td>\n",
       "      <td>Ki</td>\n",
       "      <td>9.000</td>\n",
       "      <td>nM</td>\n",
       "      <td>9.000000e-09</td>\n",
       "      <td>8.045757</td>\n",
       "    </tr>\n",
       "  </tbody>\n",
       "</table>\n",
       "<p>5316 rows × 6 columns</p>\n",
       "</div>"
      ],
      "text/plain": [
       "         0   1        2 unit         Molar         pK\n",
       "0     2tpi  Kd   49.000   uM  4.900000e-08   7.309804\n",
       "1     4tln  Ki  190.000   uM  1.900000e-07   6.721246\n",
       "2     1rnt  Kd    6.500   uM  6.500000e-09   8.187087\n",
       "3     4ts1  Kd   11.600   uM  1.160000e-08   7.935542\n",
       "4     4tmn  Ki    0.068   nM  6.800000e-11  10.167491\n",
       "...    ...  ..      ...  ...           ...        ...\n",
       "5311  6d1i  Ki   81.000   uM  8.100000e-08   7.091515\n",
       "5312  6uh0  Ki  853.100   nM  8.531000e-07   6.069000\n",
       "5313  6k04  Ki    9.100   nM  9.100000e-09   8.040959\n",
       "5314  6ic2  Ki  917.400   nM  9.174000e-07   6.037441\n",
       "5315  6gxe  Ki    9.000   nM  9.000000e-09   8.045757\n",
       "\n",
       "[5316 rows x 6 columns]"
      ]
     },
     "execution_count": 19,
     "metadata": {},
     "output_type": "execute_result"
    }
   ],
   "source": [
    "df"
   ]
  },
  {
   "cell_type": "code",
   "execution_count": 20,
   "metadata": {},
   "outputs": [
    {
     "data": {
      "image/png": "[encoded data removed]",
      "text/plain": [
       "<Figure size 640x480 with 1 Axes>"
      ]
     },
     "metadata": {},
     "output_type": "display_data"
    }
   ],
   "source": [
    "df.hist(column='pK', bins=100)\n",
    "plt.show()"
   ]
  },
  {
   "cell_type": "code",
   "execution_count": 21,
   "metadata": {},
   "outputs": [],
   "source": [
    "import MDAnalysis as mda"
   ]
  },
  {
   "cell_type": "code",
   "execution_count": 22,
   "metadata": {},
   "outputs": [
    {
     "name": "stderr",
     "output_type": "stream",
     "text": [
      "/home/scro4068/.local/lib/python3.10/site-packages/MDAnalysis/topology/guessers.py:146: UserWarning: Failed to guess the mass for the following atom types: HG\n",
      "  warnings.warn(\"Failed to guess the mass for the following atom types: {}\".format(atom_type))\n"
     ]
    }
   ],
   "source": [
    "protein = mda.Universe('refined-set/2tpi/2tpi_protein.pdb')\n",
    "ligand = mda.Universe('refined-set/2tpi/2tpi_ligand.mol2')"
   ]
  },
  {
   "cell_type": "code",
   "execution_count": 23,
   "metadata": {},
   "outputs": [
    {
     "name": "stdout",
     "output_type": "stream",
     "text": [
      "19\r"
     ]
    },
    {
     "name": "stderr",
     "output_type": "stream",
     "text": [
      "/home/scro4068/.local/lib/python3.10/site-packages/MDAnalysis/topology/PDBParser.py:331: UserWarning: Element information is missing, elements attribute will not be populated. If needed these can be guessed using MDAnalysis.topology.guessers.\n",
      "  warnings.warn(\"Element information is missing, elements attribute \"\n"
     ]
    },
    {
     "name": "stdout",
     "output_type": "stream",
     "text": [
      "34\r"
     ]
    },
    {
     "name": "stderr",
     "output_type": "stream",
     "text": [
      "/home/scro4068/.local/lib/python3.10/site-packages/MDAnalysis/topology/guessers.py:146: UserWarning: Failed to guess the mass for the following atom types: CD\n",
      "  warnings.warn(\"Failed to guess the mass for the following atom types: {}\".format(atom_type))\n"
     ]
    },
    {
     "name": "stdout",
     "output_type": "stream",
     "text": [
      "107\r"
     ]
    },
    {
     "name": "stderr",
     "output_type": "stream",
     "text": [
      "/home/scro4068/.local/lib/python3.10/site-packages/MDAnalysis/topology/guessers.py:146: UserWarning: Failed to guess the mass for the following atom types: MN\n",
      "  warnings.warn(\"Failed to guess the mass for the following atom types: {}\".format(atom_type))\n"
     ]
    },
    {
     "name": "stdout",
     "output_type": "stream",
     "text": [
      "379\r"
     ]
    },
    {
     "name": "stderr",
     "output_type": "stream",
     "text": [
      "/home/scro4068/.local/lib/python3.10/site-packages/MDAnalysis/topology/guessers.py:146: UserWarning: Failed to guess the mass for the following atom types: NI\n",
      "  warnings.warn(\"Failed to guess the mass for the following atom types: {}\".format(atom_type))\n"
     ]
    },
    {
     "name": "stdout",
     "output_type": "stream",
     "text": [
      "447\r"
     ]
    },
    {
     "name": "stderr",
     "output_type": "stream",
     "text": [
      "/home/scro4068/.local/lib/python3.10/site-packages/MDAnalysis/topology/guessers.py:146: UserWarning: Failed to guess the mass for the following atom types: CO\n",
      "  warnings.warn(\"Failed to guess the mass for the following atom types: {}\".format(atom_type))\n"
     ]
    },
    {
     "name": "stdout",
     "output_type": "stream",
     "text": [
      "1114\r"
     ]
    },
    {
     "name": "stderr",
     "output_type": "stream",
     "text": [
      "/home/scro4068/.local/lib/python3.10/site-packages/MDAnalysis/topology/guessers.py:146: UserWarning: Failed to guess the mass for the following atom types: SE\n",
      "  warnings.warn(\"Failed to guess the mass for the following atom types: {}\".format(atom_type))\n"
     ]
    },
    {
     "name": "stdout",
     "output_type": "stream",
     "text": [
      "1419\r"
     ]
    },
    {
     "name": "stderr",
     "output_type": "stream",
     "text": [
      "/home/scro4068/.local/lib/python3.10/site-packages/MDAnalysis/topology/guessers.py:146: UserWarning: Failed to guess the mass for the following atom types: SR\n",
      "  warnings.warn(\"Failed to guess the mass for the following atom types: {}\".format(atom_type))\n"
     ]
    },
    {
     "name": "stdout",
     "output_type": "stream",
     "text": [
      "2888\r"
     ]
    },
    {
     "name": "stderr",
     "output_type": "stream",
     "text": [
      "/home/scro4068/.local/lib/python3.10/site-packages/MDAnalysis/topology/guessers.py:146: UserWarning: Failed to guess the mass for the following atom types: LI\n",
      "  warnings.warn(\"Failed to guess the mass for the following atom types: {}\".format(atom_type))\n"
     ]
    },
    {
     "name": "stdout",
     "output_type": "stream",
     "text": [
      "5315\r"
     ]
    }
   ],
   "source": [
    "residue_len = []\n",
    "for j,i in enumerate(df[0]):\n",
    "    print(j, end='\\r')\n",
    "    protein = mda.Universe(f'refined-set/{i}/{i}_protein.pdb')\n",
    "    residue_len.append(len(protein.residues)) "
   ]
  },
  {
   "cell_type": "code",
   "execution_count": 29,
   "metadata": {},
   "outputs": [],
   "source": [
    "df['Residue lenght'] = residue_len"
   ]
  },
  {
   "cell_type": "code",
   "execution_count": 30,
   "metadata": {},
   "outputs": [
    {
     "data": {
      "image/png": "[encoded data removed]",
      "text/plain": [
       "<Figure size 640x480 with 1 Axes>"
      ]
     },
     "metadata": {},
     "output_type": "display_data"
    }
   ],
   "source": [
    "df.hist(column= 'Residue lenght', bins=50)\n",
    "plt.show()"
   ]
  },
  {
   "cell_type": "code",
   "execution_count": 24,
   "metadata": {},
   "outputs": [
    {
     "name": "stdout",
     "output_type": "stream",
     "text": [
      "5315\r"
     ]
    }
   ],
   "source": [
    "atom_len = []\n",
    "for j,i in enumerate(df[0]):\n",
    "    print(j, end='\\r')\n",
    "    ligand = mda.Universe(f'refined-set/{i}/{i}_ligand.mol2')\n",
    "    atom_len.append(len(ligand.atoms)) "
   ]
  },
  {
   "cell_type": "code",
   "execution_count": 25,
   "metadata": {},
   "outputs": [],
   "source": [
    "df['Ligand atom nr'] = atom_len"
   ]
  },
  {
   "cell_type": "code",
   "execution_count": 26,
   "metadata": {},
   "outputs": [
    {
     "data": {
      "text/html": [
       "<div>\n",
       "<style scoped>\n",
       "    .dataframe tbody tr th:only-of-type {\n",
       "        vertical-align: middle;\n",
       "    }\n",
       "\n",
       "    .dataframe tbody tr th {\n",
       "        vertical-align: top;\n",
       "    }\n",
       "\n",
       "    .dataframe thead th {\n",
       "        text-align: right;\n",
       "    }\n",
       "</style>\n",
       "<table border=\"1\" class=\"dataframe\">\n",
       "  <thead>\n",
       "    <tr style=\"text-align: right;\">\n",
       "      <th></th>\n",
       "      <th>0</th>\n",
       "      <th>1</th>\n",
       "      <th>2</th>\n",
       "      <th>unit</th>\n",
       "      <th>Molar</th>\n",
       "      <th>pK</th>\n",
       "      <th>Ligand atom nr</th>\n",
       "    </tr>\n",
       "  </thead>\n",
       "  <tbody>\n",
       "    <tr>\n",
       "      <th>0</th>\n",
       "      <td>2tpi</td>\n",
       "      <td>Kd</td>\n",
       "      <td>49.000</td>\n",
       "      <td>uM</td>\n",
       "      <td>4.900000e-08</td>\n",
       "      <td>7.309804</td>\n",
       "      <td>38</td>\n",
       "    </tr>\n",
       "    <tr>\n",
       "      <th>1</th>\n",
       "      <td>4tln</td>\n",
       "      <td>Ki</td>\n",
       "      <td>190.000</td>\n",
       "      <td>uM</td>\n",
       "      <td>1.900000e-07</td>\n",
       "      <td>6.721246</td>\n",
       "      <td>25</td>\n",
       "    </tr>\n",
       "    <tr>\n",
       "      <th>2</th>\n",
       "      <td>1rnt</td>\n",
       "      <td>Kd</td>\n",
       "      <td>6.500</td>\n",
       "      <td>uM</td>\n",
       "      <td>6.500000e-09</td>\n",
       "      <td>8.187087</td>\n",
       "      <td>36</td>\n",
       "    </tr>\n",
       "    <tr>\n",
       "      <th>3</th>\n",
       "      <td>4ts1</td>\n",
       "      <td>Kd</td>\n",
       "      <td>11.600</td>\n",
       "      <td>uM</td>\n",
       "      <td>1.160000e-08</td>\n",
       "      <td>7.935542</td>\n",
       "      <td>24</td>\n",
       "    </tr>\n",
       "    <tr>\n",
       "      <th>4</th>\n",
       "      <td>4tmn</td>\n",
       "      <td>Ki</td>\n",
       "      <td>0.068</td>\n",
       "      <td>nM</td>\n",
       "      <td>6.800000e-11</td>\n",
       "      <td>10.167491</td>\n",
       "      <td>68</td>\n",
       "    </tr>\n",
       "    <tr>\n",
       "      <th>...</th>\n",
       "      <td>...</td>\n",
       "      <td>...</td>\n",
       "      <td>...</td>\n",
       "      <td>...</td>\n",
       "      <td>...</td>\n",
       "      <td>...</td>\n",
       "      <td>...</td>\n",
       "    </tr>\n",
       "    <tr>\n",
       "      <th>5311</th>\n",
       "      <td>6d1i</td>\n",
       "      <td>Ki</td>\n",
       "      <td>81.000</td>\n",
       "      <td>uM</td>\n",
       "      <td>8.100000e-08</td>\n",
       "      <td>7.091515</td>\n",
       "      <td>27</td>\n",
       "    </tr>\n",
       "    <tr>\n",
       "      <th>5312</th>\n",
       "      <td>6uh0</td>\n",
       "      <td>Ki</td>\n",
       "      <td>853.100</td>\n",
       "      <td>nM</td>\n",
       "      <td>8.531000e-07</td>\n",
       "      <td>6.069000</td>\n",
       "      <td>22</td>\n",
       "    </tr>\n",
       "    <tr>\n",
       "      <th>5313</th>\n",
       "      <td>6k04</td>\n",
       "      <td>Ki</td>\n",
       "      <td>9.100</td>\n",
       "      <td>nM</td>\n",
       "      <td>9.100000e-09</td>\n",
       "      <td>8.040959</td>\n",
       "      <td>50</td>\n",
       "    </tr>\n",
       "    <tr>\n",
       "      <th>5314</th>\n",
       "      <td>6ic2</td>\n",
       "      <td>Ki</td>\n",
       "      <td>917.400</td>\n",
       "      <td>nM</td>\n",
       "      <td>9.174000e-07</td>\n",
       "      <td>6.037441</td>\n",
       "      <td>38</td>\n",
       "    </tr>\n",
       "    <tr>\n",
       "      <th>5315</th>\n",
       "      <td>6gxe</td>\n",
       "      <td>Ki</td>\n",
       "      <td>9.000</td>\n",
       "      <td>nM</td>\n",
       "      <td>9.000000e-09</td>\n",
       "      <td>8.045757</td>\n",
       "      <td>34</td>\n",
       "    </tr>\n",
       "  </tbody>\n",
       "</table>\n",
       "<p>5316 rows × 7 columns</p>\n",
       "</div>"
      ],
      "text/plain": [
       "         0   1        2 unit         Molar         pK  Ligand atom nr\n",
       "0     2tpi  Kd   49.000   uM  4.900000e-08   7.309804              38\n",
       "1     4tln  Ki  190.000   uM  1.900000e-07   6.721246              25\n",
       "2     1rnt  Kd    6.500   uM  6.500000e-09   8.187087              36\n",
       "3     4ts1  Kd   11.600   uM  1.160000e-08   7.935542              24\n",
       "4     4tmn  Ki    0.068   nM  6.800000e-11  10.167491              68\n",
       "...    ...  ..      ...  ...           ...        ...             ...\n",
       "5311  6d1i  Ki   81.000   uM  8.100000e-08   7.091515              27\n",
       "5312  6uh0  Ki  853.100   nM  8.531000e-07   6.069000              22\n",
       "5313  6k04  Ki    9.100   nM  9.100000e-09   8.040959              50\n",
       "5314  6ic2  Ki  917.400   nM  9.174000e-07   6.037441              38\n",
       "5315  6gxe  Ki    9.000   nM  9.000000e-09   8.045757              34\n",
       "\n",
       "[5316 rows x 7 columns]"
      ]
     },
     "execution_count": 26,
     "metadata": {},
     "output_type": "execute_result"
    }
   ],
   "source": [
    "df"
   ]
  },
  {
   "cell_type": "code",
   "execution_count": 27,
   "metadata": {},
   "outputs": [
    {
     "data": {
      "image/png": "[encoded data removed]",
      "text/plain": [
       "<Figure size 640x480 with 1 Axes>"
      ]
     },
     "metadata": {},
     "output_type": "display_data"
    }
   ],
   "source": [
    "df.hist(column= \"Ligand atom nr\", bins=50)\n",
    "plt.show()"
   ]
  },
  {
   "cell_type": "code",
   "execution_count": 28,
   "metadata": {},
   "outputs": [
    {
     "data": {
      "text/plain": [
       "34"
      ]
     },
     "execution_count": 28,
     "metadata": {},
     "output_type": "execute_result"
    }
   ],
   "source": [
    "len(ligand.atoms)"
   ]
  },
  {
   "cell_type": "code",
   "execution_count": null,
   "metadata": {},
   "outputs": [],
   "source": []
  }
 ],
 "metadata": {
  "kernelspec": {
   "display_name": "Python 3 (ipykernel)",
   "language": "python",
   "name": "python3"
  },
  "language_info": {
   "codemirror_mode": {
    "name": "ipython",
    "version": 3
   },
   "file_extension": ".py",
   "mimetype": "text/x-python",
   "name": "python",
   "nbconvert_exporter": "python",
   "pygments_lexer": "ipython3",
   "version": "3.10.12"
  }
 },
 "nbformat": 4,
 "nbformat_minor": 2
}
